{
 "cells": [
  {
   "cell_type": "code",
   "execution_count": 1,
   "id": "d450d2c5-61b7-4d4a-a9c7-cc5431c4ff71",
   "metadata": {
    "tags": []
   },
   "outputs": [],
   "source": [
    "import pandas as pd\n",
    "import numpy as np\n",
    "import warnings\n",
    "import datetime\n",
    "warnings.filterwarnings('ignore')\n",
    "pd.set_option('display.max_columns', 500)"
   ]
  },
  {
   "cell_type": "code",
   "execution_count": 2,
   "id": "4b22ea50-57c3-41ac-b9bd-9351b04ff7af",
   "metadata": {
    "tags": []
   },
   "outputs": [],
   "source": [
    "kras = pd.read_excel('krasnodar_03_09_24.xlsx', skiprows=1)"
   ]
  },
  {
   "cell_type": "code",
   "execution_count": 3,
   "id": "a4340f05-98ae-4720-bd7d-6e34e3a69238",
   "metadata": {
    "tags": []
   },
   "outputs": [],
   "source": [
    "kras2 = pd.read_excel('krasnodar2_03_09_24.xlsx', skiprows=1)"
   ]
  },
  {
   "cell_type": "code",
   "execution_count": 4,
   "id": "fea0904c-32a5-4bea-9fcb-35ac54800c28",
   "metadata": {
    "tags": []
   },
   "outputs": [],
   "source": [
    "MSK = pd.read_excel('MSK (3).xlsx', skiprows=0)"
   ]
  },
  {
   "cell_type": "code",
   "execution_count": 5,
   "id": "872c2d74-8990-4250-9dcc-c0e36cdf24d8",
   "metadata": {
    "tags": []
   },
   "outputs": [],
   "source": [
    "price = pd.read_excel('price_20240903061922.xlsx', skiprows=0)"
   ]
  },
  {
   "cell_type": "code",
   "execution_count": 6,
   "id": "13bfd826-287c-4b08-96ac-5cdd28fa19d9",
   "metadata": {
    "tags": []
   },
   "outputs": [],
   "source": [
    "f_прайс = pd.read_excel('Прайс лист для клиентов (30).xlsx', skiprows=0)"
   ]
  },
  {
   "cell_type": "code",
   "execution_count": 7,
   "id": "a202e5da-11bc-46ba-a1c4-a7ab1fec77e8",
   "metadata": {
    "tags": []
   },
   "outputs": [],
   "source": [
    "f_профитлига = pd.read_excel('ПрофитЛига ПРАИС-ЛИСТ филиал  XLSX.xlsx', skiprows=0)"
   ]
  },
  {
   "cell_type": "code",
   "execution_count": 8,
   "id": "73b458d0-95dd-498a-80b0-813b03d10e79",
   "metadata": {
    "tags": []
   },
   "outputs": [],
   "source": [
    "f_berg = pd.read_csv('BERG_20240903_040019.csv', delimiter=';', encoding='cp1251')"
   ]
  },
  {
   "cell_type": "code",
   "execution_count": 9,
   "id": "7e8910ac-bcfb-4560-8c2a-0a8d8c7a30af",
   "metadata": {
    "tags": []
   },
   "outputs": [],
   "source": [
    "f_forum = pd.read_excel('FORUM_AUTO_PRICE_CENTER.xlsx', skiprows=2)"
   ]
  },
  {
   "cell_type": "code",
   "execution_count": 10,
   "id": "623efdd7-128e-4021-8ffd-fa3745b548ce",
   "metadata": {
    "tags": []
   },
   "outputs": [],
   "source": [
    "# ------------------------------------------------------------------------------------------------------------------------"
   ]
  },
  {
   "cell_type": "code",
   "execution_count": 11,
   "id": "31ed07b7-3379-4d75-af09-5c8e00f0ba4d",
   "metadata": {
    "tags": []
   },
   "outputs": [],
   "source": [
    "df_kr = kras.copy()\n",
    "df_kr2 = kras2.copy()\n",
    "df_msk = MSK.copy()\n",
    "\n",
    "df_price = price.copy()\n",
    "df_прайс = f_прайс.copy()\n",
    "df_профитлига = f_профитлига.copy()\n",
    "\n",
    "df_berg = f_berg.copy()\n",
    "df_forum = f_forum.copy()\n"
   ]
  },
  {
   "cell_type": "markdown",
   "id": "8bd92ea7-244d-4154-af00-d79df54475ef",
   "metadata": {
    "tags": []
   },
   "source": [
    "<div class=\"alert alert-block alert-info\"><font size=3>\n",
    "<b>df_kr"
   ]
  },
  {
   "cell_type": "code",
   "execution_count": 12,
   "id": "f782d4c9-587a-4dad-b6b4-5a1cded70b9d",
   "metadata": {
    "tags": []
   },
   "outputs": [],
   "source": [
    "df_kr['ImageUrls'] = ''"
   ]
  },
  {
   "cell_type": "code",
   "execution_count": 13,
   "id": "4941f88c-688c-47a4-ab98-62f815f262d5",
   "metadata": {
    "tags": []
   },
   "outputs": [],
   "source": [
    "df_kr = df_kr.rename(columns={'Производитель':'Brand',\n",
    "                     'Номер производителя':'ID',\n",
    "                     'Наименование':'Title',\n",
    "                     'Оригинальный номер':'Description',\n",
    "                     'Цена, Рубль':'Price',})"
   ]
  },
  {
   "cell_type": "code",
   "execution_count": 14,
   "id": "bec527ea-5055-4a3a-b3cb-5e4a22f2a02b",
   "metadata": {
    "tags": []
   },
   "outputs": [],
   "source": [
    "# df_kr.columns"
   ]
  },
  {
   "cell_type": "code",
   "execution_count": 15,
   "id": "e0cb89c1-798d-4241-83e2-989cf80d509a",
   "metadata": {
    "tags": []
   },
   "outputs": [],
   "source": [
    "df_kr = df_kr[[\n",
    "    'ID',\n",
    "    'Title',\n",
    "    'Price',\n",
    "    'Brand', \n",
    "    'ImageUrls',\n",
    "    'Description',\n",
    "]]"
   ]
  },
  {
   "cell_type": "code",
   "execution_count": 16,
   "id": "c9e1c666-cc0d-41fe-9062-a96e338ca029",
   "metadata": {
    "tags": []
   },
   "outputs": [],
   "source": [
    "# df_kr"
   ]
  },
  {
   "cell_type": "markdown",
   "id": "92686406-c9b0-4f02-9b2b-e6d7cf5ef211",
   "metadata": {
    "tags": []
   },
   "source": [
    "<div class=\"alert alert-block alert-info\"><font size=3>\n",
    "<b>df_kr2"
   ]
  },
  {
   "cell_type": "code",
   "execution_count": 17,
   "id": "e089fd9e-986c-4d2c-86b3-cf6bb0df0eb7",
   "metadata": {
    "tags": []
   },
   "outputs": [],
   "source": [
    "df_kr2['ImageUrls'] = ''"
   ]
  },
  {
   "cell_type": "code",
   "execution_count": 18,
   "id": "62ea1f4d-2ebf-441e-8a7b-2da9406caf02",
   "metadata": {
    "tags": []
   },
   "outputs": [],
   "source": [
    "df_kr2 = df_kr2.rename(columns={'Производитель':'Brand',\n",
    "                     'Номер производителя':'ID',\n",
    "                     'Наименование':'Title',\n",
    "                     'Оригинальный номер':'Description',\n",
    "                     'Цена, Рубль':'Price',})"
   ]
  },
  {
   "cell_type": "code",
   "execution_count": 19,
   "id": "8f4e9aa1-a206-4300-9ff5-e1801089f4ef",
   "metadata": {
    "tags": []
   },
   "outputs": [],
   "source": [
    "# df_kr.columns"
   ]
  },
  {
   "cell_type": "code",
   "execution_count": 20,
   "id": "bf11f401-b743-4ec8-aee4-871b5bece76b",
   "metadata": {
    "tags": []
   },
   "outputs": [],
   "source": [
    "df_kr2 = df_kr2[[\n",
    "    'ID',\n",
    "    'Title',\n",
    "    'Price',\n",
    "    'Brand', \n",
    "    'ImageUrls',\n",
    "    'Description',\n",
    "]]"
   ]
  },
  {
   "cell_type": "code",
   "execution_count": 21,
   "id": "9213a2c7-f1df-48f3-9958-2562010868b1",
   "metadata": {
    "tags": []
   },
   "outputs": [
    {
     "data": {
      "text/html": [
       "<div>\n",
       "<style scoped>\n",
       "    .dataframe tbody tr th:only-of-type {\n",
       "        vertical-align: middle;\n",
       "    }\n",
       "\n",
       "    .dataframe tbody tr th {\n",
       "        vertical-align: top;\n",
       "    }\n",
       "\n",
       "    .dataframe thead th {\n",
       "        text-align: right;\n",
       "    }\n",
       "</style>\n",
       "<table border=\"1\" class=\"dataframe\">\n",
       "  <thead>\n",
       "    <tr style=\"text-align: right;\">\n",
       "      <th></th>\n",
       "      <th>ID</th>\n",
       "      <th>Title</th>\n",
       "      <th>Price</th>\n",
       "      <th>Brand</th>\n",
       "      <th>ImageUrls</th>\n",
       "      <th>Description</th>\n",
       "    </tr>\n",
       "  </thead>\n",
       "  <tbody>\n",
       "    <tr>\n",
       "      <th>0</th>\n",
       "      <td>4U-SH-019682</td>\n",
       "      <td>Патрубок радиатора FORD TRANSIT V 348 12-</td>\n",
       "      <td>680.00</td>\n",
       "      <td>4U</td>\n",
       "      <td></td>\n",
       "      <td>FORD 1862046; FORD 1878225; FORD BK3Q8K512BC</td>\n",
       "    </tr>\n",
       "    <tr>\n",
       "      <th>1</th>\n",
       "      <td>4UAN041234</td>\n",
       "      <td>Свеча накала 11,5v mercedes 190 d-200 d</td>\n",
       "      <td>285.00</td>\n",
       "      <td>4U</td>\n",
       "      <td></td>\n",
       "      <td>NaN</td>\n",
       "    </tr>\n",
       "    <tr>\n",
       "      <th>2</th>\n",
       "      <td>4UAN074106</td>\n",
       "      <td>Свеча накала MB/OPEL</td>\n",
       "      <td>260.00</td>\n",
       "      <td>4U</td>\n",
       "      <td></td>\n",
       "      <td>MERCEDES BENZ 0001597501; FORD 1587444; ALFA R...</td>\n",
       "    </tr>\n",
       "    <tr>\n",
       "      <th>3</th>\n",
       "      <td>4UAN086250</td>\n",
       "      <td>Свеча накала 11,5v mercedes mb sprinter 210d-2...</td>\n",
       "      <td>289.00</td>\n",
       "      <td>4U</td>\n",
       "      <td></td>\n",
       "      <td>MERCEDES BENZ A0011592601</td>\n",
       "    </tr>\n",
       "    <tr>\n",
       "      <th>4</th>\n",
       "      <td>4UAN106002</td>\n",
       "      <td>Свеча накала BMW E46/90/60/X5 (E53/70)</td>\n",
       "      <td>359.00</td>\n",
       "      <td>4U</td>\n",
       "      <td></td>\n",
       "      <td>BMW 12237786869</td>\n",
       "    </tr>\n",
       "    <tr>\n",
       "      <th>...</th>\n",
       "      <td>...</td>\n",
       "      <td>...</td>\n",
       "      <td>...</td>\n",
       "      <td>...</td>\n",
       "      <td>...</td>\n",
       "      <td>...</td>\n",
       "    </tr>\n",
       "    <tr>\n",
       "      <th>88649</th>\n",
       "      <td>40827942</td>\n",
       "      <td>Масло трансмиссионное Rosneft Kinetic MT 80W-9...</td>\n",
       "      <td>1406.57</td>\n",
       "      <td>РОСНЕФТЬ</td>\n",
       "      <td></td>\n",
       "      <td>NaN</td>\n",
       "    </tr>\n",
       "    <tr>\n",
       "      <th>88650</th>\n",
       "      <td>40837760</td>\n",
       "      <td>Масло Роснефть Compressor VDL 100, канистра 20 л</td>\n",
       "      <td>7120.80</td>\n",
       "      <td>РОСНЕФТЬ</td>\n",
       "      <td></td>\n",
       "      <td>NaN</td>\n",
       "    </tr>\n",
       "    <tr>\n",
       "      <th>88651</th>\n",
       "      <td>8894</td>\n",
       "      <td>Масло Роснефть ТСП-15К Канистра 20 л</td>\n",
       "      <td>3174.00</td>\n",
       "      <td>РОСНЕФТЬ</td>\n",
       "      <td></td>\n",
       "      <td>NaN</td>\n",
       "    </tr>\n",
       "    <tr>\n",
       "      <th>88652</th>\n",
       "      <td>0-02-010</td>\n",
       "      <td>0-02-010 Полиуретановая втулка стойки стабилиз...</td>\n",
       "      <td>78.76</td>\n",
       "      <td>ТОЧКА ОПОРЫ</td>\n",
       "      <td></td>\n",
       "      <td>NaN</td>\n",
       "    </tr>\n",
       "    <tr>\n",
       "      <th>88653</th>\n",
       "      <td>F01H7B0162</td>\n",
       "      <td>Свеча зажигания LPG6 ЭЗ STANDARD (блистер) (ми...</td>\n",
       "      <td>569.52</td>\n",
       "      <td>ЭЗ</td>\n",
       "      <td></td>\n",
       "      <td>NaN</td>\n",
       "    </tr>\n",
       "  </tbody>\n",
       "</table>\n",
       "<p>88654 rows × 6 columns</p>\n",
       "</div>"
      ],
      "text/plain": [
       "                 ID                                              Title  \\\n",
       "0      4U-SH-019682          Патрубок радиатора FORD TRANSIT V 348 12-   \n",
       "1        4UAN041234            Свеча накала 11,5v mercedes 190 d-200 d   \n",
       "2        4UAN074106                               Свеча накала MB/OPEL   \n",
       "3        4UAN086250  Свеча накала 11,5v mercedes mb sprinter 210d-2...   \n",
       "4        4UAN106002             Свеча накала BMW E46/90/60/X5 (E53/70)   \n",
       "...             ...                                                ...   \n",
       "88649      40827942  Масло трансмиссионное Rosneft Kinetic MT 80W-9...   \n",
       "88650      40837760   Масло Роснефть Compressor VDL 100, канистра 20 л   \n",
       "88651          8894               Масло Роснефть ТСП-15К Канистра 20 л   \n",
       "88652      0-02-010  0-02-010 Полиуретановая втулка стойки стабилиз...   \n",
       "88653    F01H7B0162  Свеча зажигания LPG6 ЭЗ STANDARD (блистер) (ми...   \n",
       "\n",
       "         Price        Brand ImageUrls  \\\n",
       "0       680.00           4U             \n",
       "1       285.00           4U             \n",
       "2       260.00           4U             \n",
       "3       289.00           4U             \n",
       "4       359.00           4U             \n",
       "...        ...          ...       ...   \n",
       "88649  1406.57     РОСНЕФТЬ             \n",
       "88650  7120.80     РОСНЕФТЬ             \n",
       "88651  3174.00     РОСНЕФТЬ             \n",
       "88652    78.76  ТОЧКА ОПОРЫ             \n",
       "88653   569.52           ЭЗ             \n",
       "\n",
       "                                             Description  \n",
       "0           FORD 1862046; FORD 1878225; FORD BK3Q8K512BC  \n",
       "1                                                    NaN  \n",
       "2      MERCEDES BENZ 0001597501; FORD 1587444; ALFA R...  \n",
       "3                              MERCEDES BENZ A0011592601  \n",
       "4                                        BMW 12237786869  \n",
       "...                                                  ...  \n",
       "88649                                                NaN  \n",
       "88650                                                NaN  \n",
       "88651                                                NaN  \n",
       "88652                                                NaN  \n",
       "88653                                                NaN  \n",
       "\n",
       "[88654 rows x 6 columns]"
      ]
     },
     "execution_count": 21,
     "metadata": {},
     "output_type": "execute_result"
    }
   ],
   "source": [
    "df_kr2"
   ]
  },
  {
   "cell_type": "markdown",
   "id": "fc2802ac-da42-4174-85f1-82d4dba0c360",
   "metadata": {
    "tags": []
   },
   "source": [
    "<div class=\"alert alert-block alert-info\"><font size=3>\n",
    "<b>df_msk"
   ]
  },
  {
   "cell_type": "code",
   "execution_count": 22,
   "id": "f64eba45-ea08-4bcd-9c4e-ee435b57f233",
   "metadata": {
    "tags": []
   },
   "outputs": [],
   "source": [
    "df_msk['ImageUrls'] = ''\n",
    "df_msk['Description'] = ''"
   ]
  },
  {
   "cell_type": "code",
   "execution_count": 23,
   "id": "af19d47d-cd17-40c5-9a7b-b802c2db37a6",
   "metadata": {
    "tags": []
   },
   "outputs": [],
   "source": [
    "df_msk = df_msk.rename(columns={'Производитель':'Brand',\n",
    "                     'Номер по каталогу':'ID',\n",
    "                     'Наименование':'Title',\n",
    "                      'Цена по договору':'Price',})"
   ]
  },
  {
   "cell_type": "code",
   "execution_count": 24,
   "id": "f8745cfe-f087-4eb3-b2a9-0875b0476868",
   "metadata": {
    "tags": []
   },
   "outputs": [
    {
     "data": {
      "text/plain": [
       "Index(['Brand', 'ID', 'Title', 'Price', 'Количество', 'Кратность',\n",
       "       'Есть возврат', 'ImageUrls', 'Description'],\n",
       "      dtype='object')"
      ]
     },
     "execution_count": 24,
     "metadata": {},
     "output_type": "execute_result"
    }
   ],
   "source": [
    "df_msk.columns"
   ]
  },
  {
   "cell_type": "code",
   "execution_count": 25,
   "id": "53ed8afc-4a26-4319-8004-8b6540382f54",
   "metadata": {
    "tags": []
   },
   "outputs": [],
   "source": [
    "df_msk = df_msk[[\n",
    "'ID', \n",
    "    'Title', \n",
    "    'Price', \n",
    "    \n",
    "'Brand', \n",
    "    'ImageUrls',\n",
    "    'Description'\n",
    "    \n",
    "]]"
   ]
  },
  {
   "cell_type": "code",
   "execution_count": 26,
   "id": "a93cf42f-2cf4-42dc-8f9e-b84ac5e927d0",
   "metadata": {
    "tags": []
   },
   "outputs": [
    {
     "data": {
      "text/html": [
       "<div>\n",
       "<style scoped>\n",
       "    .dataframe tbody tr th:only-of-type {\n",
       "        vertical-align: middle;\n",
       "    }\n",
       "\n",
       "    .dataframe tbody tr th {\n",
       "        vertical-align: top;\n",
       "    }\n",
       "\n",
       "    .dataframe thead th {\n",
       "        text-align: right;\n",
       "    }\n",
       "</style>\n",
       "<table border=\"1\" class=\"dataframe\">\n",
       "  <thead>\n",
       "    <tr style=\"text-align: right;\">\n",
       "      <th></th>\n",
       "      <th>ID</th>\n",
       "      <th>Title</th>\n",
       "      <th>Price</th>\n",
       "      <th>Brand</th>\n",
       "      <th>ImageUrls</th>\n",
       "      <th>Description</th>\n",
       "    </tr>\n",
       "  </thead>\n",
       "  <tbody>\n",
       "    <tr>\n",
       "      <th>0</th>\n",
       "      <td>24-411</td>\n",
       "      <td>Пыльник ШРУСа</td>\n",
       "      <td>509.43</td>\n",
       "      <td>1-56 (MARUICHI)</td>\n",
       "      <td></td>\n",
       "      <td></td>\n",
       "    </tr>\n",
       "    <tr>\n",
       "      <th>1</th>\n",
       "      <td>66-423</td>\n",
       "      <td>Пыльник ШРУСа</td>\n",
       "      <td>499.92</td>\n",
       "      <td>1-56 (MARUICHI)</td>\n",
       "      <td></td>\n",
       "      <td></td>\n",
       "    </tr>\n",
       "    <tr>\n",
       "      <th>2</th>\n",
       "      <td>739</td>\n",
       "      <td>Фильтр салона</td>\n",
       "      <td>141.75</td>\n",
       "      <td>3F QUALITY</td>\n",
       "      <td></td>\n",
       "      <td></td>\n",
       "    </tr>\n",
       "    <tr>\n",
       "      <th>3</th>\n",
       "      <td>52182</td>\n",
       "      <td>Салфетки влажные для пластика и кожи 200х150 3...</td>\n",
       "      <td>41.58</td>\n",
       "      <td>3TON</td>\n",
       "      <td></td>\n",
       "      <td></td>\n",
       "    </tr>\n",
       "    <tr>\n",
       "      <th>4</th>\n",
       "      <td>4UAN041234</td>\n",
       "      <td>Свеча накала  11,5v mercedes 190 d-200 d</td>\n",
       "      <td>286.00</td>\n",
       "      <td>4U</td>\n",
       "      <td></td>\n",
       "      <td></td>\n",
       "    </tr>\n",
       "    <tr>\n",
       "      <th>...</th>\n",
       "      <td>...</td>\n",
       "      <td>...</td>\n",
       "      <td>...</td>\n",
       "      <td>...</td>\n",
       "      <td>...</td>\n",
       "      <td>...</td>\n",
       "    </tr>\n",
       "    <tr>\n",
       "      <th>197456</th>\n",
       "      <td>2110-5002122</td>\n",
       "      <td>Пистон (клипса) шумоизоляции капота ВАЗ 2110 (...</td>\n",
       "      <td>3.17</td>\n",
       "      <td>УНИП СЕРВИС</td>\n",
       "      <td></td>\n",
       "      <td></td>\n",
       "    </tr>\n",
       "    <tr>\n",
       "      <th>197457</th>\n",
       "      <td>VSK-01555967</td>\n",
       "      <td>Ремкомплект защиты двигателя ВАЗ 2101 УНИП СЕР...</td>\n",
       "      <td>97.68</td>\n",
       "      <td>УНИП СЕРВИС</td>\n",
       "      <td></td>\n",
       "      <td></td>\n",
       "    </tr>\n",
       "    <tr>\n",
       "      <th>197458</th>\n",
       "      <td>33022400000</td>\n",
       "      <td>Прокладки з/моста 3302 с сальниками (к-т) Стан...</td>\n",
       "      <td>373.11</td>\n",
       "      <td>ФАРЕР</td>\n",
       "      <td></td>\n",
       "      <td></td>\n",
       "    </tr>\n",
       "    <tr>\n",
       "      <th>197459</th>\n",
       "      <td>ER-01101</td>\n",
       "      <td>Набор метчиков и плашек метрический 110 предме...</td>\n",
       "      <td>17995.57</td>\n",
       "      <td>ЭВРИКА</td>\n",
       "      <td></td>\n",
       "      <td></td>\n",
       "    </tr>\n",
       "    <tr>\n",
       "      <th>197460</th>\n",
       "      <td>25.3720-01</td>\n",
       "      <td>Выключатель стоп-сигнала с электронными педаля...</td>\n",
       "      <td>155.40</td>\n",
       "      <td>ЭМИ</td>\n",
       "      <td></td>\n",
       "      <td></td>\n",
       "    </tr>\n",
       "  </tbody>\n",
       "</table>\n",
       "<p>197461 rows × 6 columns</p>\n",
       "</div>"
      ],
      "text/plain": [
       "                  ID                                              Title  \\\n",
       "0             24-411                                      Пыльник ШРУСа   \n",
       "1             66-423                                      Пыльник ШРУСа   \n",
       "2                739                                      Фильтр салона   \n",
       "3              52182  Салфетки влажные для пластика и кожи 200х150 3...   \n",
       "4         4UAN041234           Свеча накала  11,5v mercedes 190 d-200 d   \n",
       "...              ...                                                ...   \n",
       "197456  2110-5002122  Пистон (клипса) шумоизоляции капота ВАЗ 2110 (...   \n",
       "197457  VSK-01555967  Ремкомплект защиты двигателя ВАЗ 2101 УНИП СЕР...   \n",
       "197458   33022400000  Прокладки з/моста 3302 с сальниками (к-т) Стан...   \n",
       "197459      ER-01101  Набор метчиков и плашек метрический 110 предме...   \n",
       "197460    25.3720-01  Выключатель стоп-сигнала с электронными педаля...   \n",
       "\n",
       "           Price            Brand ImageUrls Description  \n",
       "0         509.43  1-56 (MARUICHI)                        \n",
       "1         499.92  1-56 (MARUICHI)                        \n",
       "2         141.75       3F QUALITY                        \n",
       "3          41.58             3TON                        \n",
       "4         286.00               4U                        \n",
       "...          ...              ...       ...         ...  \n",
       "197456      3.17      УНИП СЕРВИС                        \n",
       "197457     97.68      УНИП СЕРВИС                        \n",
       "197458    373.11            ФАРЕР                        \n",
       "197459  17995.57           ЭВРИКА                        \n",
       "197460    155.40              ЭМИ                        \n",
       "\n",
       "[197461 rows x 6 columns]"
      ]
     },
     "execution_count": 26,
     "metadata": {},
     "output_type": "execute_result"
    }
   ],
   "source": [
    "df_msk"
   ]
  },
  {
   "cell_type": "markdown",
   "id": "645d3102-561c-4259-8ef7-f0d2c6af4157",
   "metadata": {
    "tags": []
   },
   "source": [
    "<div class=\"alert alert-block alert-info\"><font size=3>\n",
    "<b>df_price"
   ]
  },
  {
   "cell_type": "code",
   "execution_count": 27,
   "id": "5f5b4519-abe2-4e77-964a-a310e7c5afa7",
   "metadata": {
    "tags": []
   },
   "outputs": [],
   "source": [
    "df_price['ImageUrls'] = ''\n",
    "df_price['Description'] = ''"
   ]
  },
  {
   "cell_type": "code",
   "execution_count": 28,
   "id": "e97f4a96-f682-48a2-b9c4-2c8e39d95d75",
   "metadata": {
    "tags": []
   },
   "outputs": [],
   "source": [
    "df_price = df_price.rename(columns={'Бренд':'Brand',\n",
    "                     'Артикул':'ID',\n",
    "                     'Наименование номенклатуры':'Title',\n",
    "                      'Окончательная цена':'Price',})"
   ]
  },
  {
   "cell_type": "code",
   "execution_count": 29,
   "id": "56c4c57a-890c-40db-8a3d-77915cf272d5",
   "metadata": {
    "tags": []
   },
   "outputs": [
    {
     "data": {
      "text/plain": [
       "Index(['Brand', 'ID', 'Title', 'Количество', 'Price', 'ImageUrls',\n",
       "       'Description'],\n",
       "      dtype='object')"
      ]
     },
     "execution_count": 29,
     "metadata": {},
     "output_type": "execute_result"
    }
   ],
   "source": [
    "df_price.columns"
   ]
  },
  {
   "cell_type": "code",
   "execution_count": 30,
   "id": "74c5858a-0273-4418-b401-a60ac2bdea9c",
   "metadata": {
    "tags": []
   },
   "outputs": [],
   "source": [
    "df_price = df_price[[\n",
    "'ID', \n",
    "    'Title', \n",
    "    'Price', \n",
    "    \n",
    "'Brand', \n",
    "    'ImageUrls',\n",
    "    'Description'\n",
    "    \n",
    "]]"
   ]
  },
  {
   "cell_type": "code",
   "execution_count": 31,
   "id": "5cd6d5d7-f5ea-4df0-801b-431ce2a2a357",
   "metadata": {
    "tags": []
   },
   "outputs": [
    {
     "data": {
      "text/html": [
       "<div>\n",
       "<style scoped>\n",
       "    .dataframe tbody tr th:only-of-type {\n",
       "        vertical-align: middle;\n",
       "    }\n",
       "\n",
       "    .dataframe tbody tr th {\n",
       "        vertical-align: top;\n",
       "    }\n",
       "\n",
       "    .dataframe thead th {\n",
       "        text-align: right;\n",
       "    }\n",
       "</style>\n",
       "<table border=\"1\" class=\"dataframe\">\n",
       "  <thead>\n",
       "    <tr style=\"text-align: right;\">\n",
       "      <th></th>\n",
       "      <th>ID</th>\n",
       "      <th>Title</th>\n",
       "      <th>Price</th>\n",
       "      <th>Brand</th>\n",
       "      <th>ImageUrls</th>\n",
       "      <th>Description</th>\n",
       "    </tr>\n",
       "  </thead>\n",
       "  <tbody>\n",
       "    <tr>\n",
       "      <th>0</th>\n",
       "      <td>AMDSEN652</td>\n",
       "      <td>Датчик давления топлива</td>\n",
       "      <td>922</td>\n",
       "      <td>AMD</td>\n",
       "      <td></td>\n",
       "      <td></td>\n",
       "    </tr>\n",
       "    <tr>\n",
       "      <th>1</th>\n",
       "      <td>AMDSG262</td>\n",
       "      <td>Сальник вала первичного КПП</td>\n",
       "      <td>68</td>\n",
       "      <td>AMD</td>\n",
       "      <td></td>\n",
       "      <td></td>\n",
       "    </tr>\n",
       "    <tr>\n",
       "      <th>2</th>\n",
       "      <td>SU226</td>\n",
       "      <td>Стойка стабилизатора переднего</td>\n",
       "      <td>412</td>\n",
       "      <td>TEKNOROT</td>\n",
       "      <td></td>\n",
       "      <td></td>\n",
       "    </tr>\n",
       "    <tr>\n",
       "      <th>3</th>\n",
       "      <td>AMDSVS141</td>\n",
       "      <td>Колпачок маслосъёмный</td>\n",
       "      <td>40</td>\n",
       "      <td>AMD</td>\n",
       "      <td></td>\n",
       "      <td></td>\n",
       "    </tr>\n",
       "    <tr>\n",
       "      <th>4</th>\n",
       "      <td>AMDSVS142</td>\n",
       "      <td>Колпачок маслосъёмный</td>\n",
       "      <td>33</td>\n",
       "      <td>AMD</td>\n",
       "      <td></td>\n",
       "      <td></td>\n",
       "    </tr>\n",
       "    <tr>\n",
       "      <th>...</th>\n",
       "      <td>...</td>\n",
       "      <td>...</td>\n",
       "      <td>...</td>\n",
       "      <td>...</td>\n",
       "      <td>...</td>\n",
       "      <td>...</td>\n",
       "    </tr>\n",
       "    <tr>\n",
       "      <th>57642</th>\n",
       "      <td>OP630</td>\n",
       "      <td>Фильтр масляный</td>\n",
       "      <td>250</td>\n",
       "      <td>FILTRON</td>\n",
       "      <td></td>\n",
       "      <td></td>\n",
       "    </tr>\n",
       "    <tr>\n",
       "      <th>57643</th>\n",
       "      <td>AM453</td>\n",
       "      <td>Фильтр воздушный</td>\n",
       "      <td>726</td>\n",
       "      <td>FILTRON</td>\n",
       "      <td></td>\n",
       "      <td></td>\n",
       "    </tr>\n",
       "    <tr>\n",
       "      <th>57644</th>\n",
       "      <td>CT979K1</td>\n",
       "      <td>Ремень ГРМ 142 зуб.,23mm + 2 ролика</td>\n",
       "      <td>8508</td>\n",
       "      <td>CONTITECH</td>\n",
       "      <td></td>\n",
       "      <td></td>\n",
       "    </tr>\n",
       "    <tr>\n",
       "      <th>57645</th>\n",
       "      <td>709100</td>\n",
       "      <td>Прокладка ГБЦ</td>\n",
       "      <td>1702</td>\n",
       "      <td>ELRING</td>\n",
       "      <td></td>\n",
       "      <td></td>\n",
       "    </tr>\n",
       "    <tr>\n",
       "      <th>57646</th>\n",
       "      <td>632760</td>\n",
       "      <td>Прокладка коллектора выпускного</td>\n",
       "      <td>386</td>\n",
       "      <td>ELRING</td>\n",
       "      <td></td>\n",
       "      <td></td>\n",
       "    </tr>\n",
       "  </tbody>\n",
       "</table>\n",
       "<p>57647 rows × 6 columns</p>\n",
       "</div>"
      ],
      "text/plain": [
       "              ID                                Title  Price      Brand  \\\n",
       "0      AMDSEN652              Датчик давления топлива    922        AMD   \n",
       "1       AMDSG262          Сальник вала первичного КПП     68        AMD   \n",
       "2          SU226       Стойка стабилизатора переднего    412   TEKNOROT   \n",
       "3      AMDSVS141                Колпачок маслосъёмный     40        AMD   \n",
       "4      AMDSVS142                Колпачок маслосъёмный     33        AMD   \n",
       "...          ...                                  ...    ...        ...   \n",
       "57642      OP630                      Фильтр масляный    250    FILTRON   \n",
       "57643      AM453                     Фильтр воздушный    726    FILTRON   \n",
       "57644    CT979K1  Ремень ГРМ 142 зуб.,23mm + 2 ролика   8508  CONTITECH   \n",
       "57645     709100                        Прокладка ГБЦ   1702     ELRING   \n",
       "57646     632760      Прокладка коллектора выпускного    386     ELRING   \n",
       "\n",
       "      ImageUrls Description  \n",
       "0                            \n",
       "1                            \n",
       "2                            \n",
       "3                            \n",
       "4                            \n",
       "...         ...         ...  \n",
       "57642                        \n",
       "57643                        \n",
       "57644                        \n",
       "57645                        \n",
       "57646                        \n",
       "\n",
       "[57647 rows x 6 columns]"
      ]
     },
     "execution_count": 31,
     "metadata": {},
     "output_type": "execute_result"
    }
   ],
   "source": [
    "df_price"
   ]
  },
  {
   "cell_type": "code",
   "execution_count": null,
   "id": "98250fe6-f244-4419-ad94-a813904c8021",
   "metadata": {},
   "outputs": [],
   "source": []
  },
  {
   "cell_type": "markdown",
   "id": "0a2fb4dd-87f4-4ce3-a26e-91f3043a32ce",
   "metadata": {
    "tags": []
   },
   "source": [
    "<div class=\"alert alert-block alert-info\"><font size=3>\n",
    "<b>df_прайс"
   ]
  },
  {
   "cell_type": "code",
   "execution_count": 32,
   "id": "2f90052d-2033-4d21-b314-e6378d09c778",
   "metadata": {
    "tags": []
   },
   "outputs": [],
   "source": [
    "# df_прайс['ImageUrls'] = ''\n",
    "df_прайс['Description'] = ''"
   ]
  },
  {
   "cell_type": "code",
   "execution_count": 33,
   "id": "a142962d-5ed3-406d-8c3c-b07bd9192fb6",
   "metadata": {
    "tags": []
   },
   "outputs": [],
   "source": [
    "df_прайс = df_прайс.rename(columns={\n",
    "                     'Бренд':'Brand',\n",
    "                     'Артикул':'ID',\n",
    "                     'ТМЦ':'Title',\n",
    "                     'Цена (RUB)':'Price',\n",
    "                     'Изображение':'ImageUrls',\n",
    "                                   })"
   ]
  },
  {
   "cell_type": "code",
   "execution_count": 34,
   "id": "ab691f87-fe03-403b-a019-7f4892d2864b",
   "metadata": {
    "tags": []
   },
   "outputs": [
    {
     "data": {
      "text/plain": [
       "Index(['ID', 'Title', 'Brand', 'ImageUrls', 'Price',\n",
       "       'Краснодар Осн.Петра Метальникова                                                                    ',\n",
       "       'Description'],\n",
       "      dtype='object')"
      ]
     },
     "execution_count": 34,
     "metadata": {},
     "output_type": "execute_result"
    }
   ],
   "source": [
    "df_прайс.columns"
   ]
  },
  {
   "cell_type": "code",
   "execution_count": 35,
   "id": "ca635bab-0ac4-4090-b4c4-0e23fcfdcb3c",
   "metadata": {
    "tags": []
   },
   "outputs": [],
   "source": [
    "df_прайс = df_прайс[[\n",
    "'ID', \n",
    "    'Title', \n",
    "    'Price', \n",
    "    \n",
    "'Brand', \n",
    "    'ImageUrls',\n",
    "    'Description'\n",
    "]]"
   ]
  },
  {
   "cell_type": "code",
   "execution_count": 36,
   "id": "5e7bc106-af57-46f4-af8a-b6d7ae3633bc",
   "metadata": {
    "tags": []
   },
   "outputs": [
    {
     "data": {
      "text/html": [
       "<div>\n",
       "<style scoped>\n",
       "    .dataframe tbody tr th:only-of-type {\n",
       "        vertical-align: middle;\n",
       "    }\n",
       "\n",
       "    .dataframe tbody tr th {\n",
       "        vertical-align: top;\n",
       "    }\n",
       "\n",
       "    .dataframe thead th {\n",
       "        text-align: right;\n",
       "    }\n",
       "</style>\n",
       "<table border=\"1\" class=\"dataframe\">\n",
       "  <thead>\n",
       "    <tr style=\"text-align: right;\">\n",
       "      <th></th>\n",
       "      <th>ID</th>\n",
       "      <th>Title</th>\n",
       "      <th>Price</th>\n",
       "      <th>Brand</th>\n",
       "      <th>ImageUrls</th>\n",
       "      <th>Description</th>\n",
       "    </tr>\n",
       "  </thead>\n",
       "  <tbody>\n",
       "    <tr>\n",
       "      <th>0</th>\n",
       "      <td>SA-1791R</td>\n",
       "      <td>Рычаг подвески передний верхний MAZDA 6/ATENZA...</td>\n",
       "      <td>3285</td>\n",
       "      <td>555</td>\n",
       "      <td>http://static.autotrade.su/nomenclature/wm/m/3...</td>\n",
       "      <td></td>\n",
       "    </tr>\n",
       "    <tr>\n",
       "      <th>1</th>\n",
       "      <td>SA-3811R</td>\n",
       "      <td>Рычаг верхний с шаров. TOYOTA LAND CRUISER 100...</td>\n",
       "      <td>4085</td>\n",
       "      <td>555</td>\n",
       "      <td>http://static.autotrade.su/nomenclature/wm/m/e...</td>\n",
       "      <td></td>\n",
       "    </tr>\n",
       "    <tr>\n",
       "      <th>2</th>\n",
       "      <td>SA-3841R</td>\n",
       "      <td>Рычаг подвески верхний с шаров. TOYOTA SURF/PR...</td>\n",
       "      <td>3760</td>\n",
       "      <td>555</td>\n",
       "      <td>http://static.autotrade.su/nomenclature/wm/m/b...</td>\n",
       "      <td></td>\n",
       "    </tr>\n",
       "    <tr>\n",
       "      <th>3</th>\n",
       "      <td>SA-6221L</td>\n",
       "      <td>Рычаг верхний с шаров. HONDA CR-V 96-01 LH</td>\n",
       "      <td>4800</td>\n",
       "      <td>555</td>\n",
       "      <td>http://static.autotrade.su/nomenclature/wm/m/1...</td>\n",
       "      <td></td>\n",
       "    </tr>\n",
       "    <tr>\n",
       "      <th>4</th>\n",
       "      <td>SA-6221R</td>\n",
       "      <td>Рычаг верхний с шаров. HONDA CR-V 96-01 RH</td>\n",
       "      <td>4800</td>\n",
       "      <td>555</td>\n",
       "      <td>http://static.autotrade.su/nomenclature/wm/m/5...</td>\n",
       "      <td></td>\n",
       "    </tr>\n",
       "    <tr>\n",
       "      <th>...</th>\n",
       "      <td>...</td>\n",
       "      <td>...</td>\n",
       "      <td>...</td>\n",
       "      <td>...</td>\n",
       "      <td>...</td>\n",
       "      <td>...</td>\n",
       "    </tr>\n",
       "    <tr>\n",
       "      <th>53969</th>\n",
       "      <td>702202PG-2912101-01-10</td>\n",
       "      <td>Лист рессоры коренной FIAT DUCATO / PEUGEOT BO...</td>\n",
       "      <td>11790</td>\n",
       "      <td>ЧМЗ</td>\n",
       "      <td>http://static.autotrade.su/nomenclature/wm/m/e...</td>\n",
       "      <td></td>\n",
       "    </tr>\n",
       "    <tr>\n",
       "      <th>53970</th>\n",
       "      <td>771503FD-2912012-10</td>\n",
       "      <td>Рессора задняя FORD TRANSIT 06-</td>\n",
       "      <td>19370</td>\n",
       "      <td>ЧМЗ</td>\n",
       "      <td>http://static.autotrade.su/nomenclature/wm/m/b...</td>\n",
       "      <td></td>\n",
       "    </tr>\n",
       "    <tr>\n",
       "      <th>53971</th>\n",
       "      <td>771503FD-2912101-10</td>\n",
       "      <td>Лист рессоры коренной FORD TRANSIT 06-</td>\n",
       "      <td>9825</td>\n",
       "      <td>ЧМЗ</td>\n",
       "      <td>http://static.autotrade.su/nomenclature/wm/m/3...</td>\n",
       "      <td></td>\n",
       "    </tr>\n",
       "    <tr>\n",
       "      <th>53972</th>\n",
       "      <td>801702FA-2912012</td>\n",
       "      <td>Рессора задняя FIAT DUCATO 244 02-06</td>\n",
       "      <td>14370</td>\n",
       "      <td>ЧМЗ</td>\n",
       "      <td>http://static.autotrade.su/nomenclature/wm/m/e...</td>\n",
       "      <td></td>\n",
       "    </tr>\n",
       "    <tr>\n",
       "      <th>53973</th>\n",
       "      <td>801801RN-2912012-10</td>\n",
       "      <td>Рессора задняя RENAULT MASTER III 11-</td>\n",
       "      <td>11710</td>\n",
       "      <td>ЧМЗ</td>\n",
       "      <td>http://static.autotrade.su/nomenclature/wm/m/0...</td>\n",
       "      <td></td>\n",
       "    </tr>\n",
       "  </tbody>\n",
       "</table>\n",
       "<p>53974 rows × 6 columns</p>\n",
       "</div>"
      ],
      "text/plain": [
       "                           ID  \\\n",
       "0                    SA-1791R   \n",
       "1                    SA-3811R   \n",
       "2                    SA-3841R   \n",
       "3                    SA-6221L   \n",
       "4                    SA-6221R   \n",
       "...                       ...   \n",
       "53969  702202PG-2912101-01-10   \n",
       "53970     771503FD-2912012-10   \n",
       "53971     771503FD-2912101-10   \n",
       "53972        801702FA-2912012   \n",
       "53973     801801RN-2912012-10   \n",
       "\n",
       "                                                   Title  Price Brand  \\\n",
       "0      Рычаг подвески передний верхний MAZDA 6/ATENZA...   3285   555   \n",
       "1      Рычаг верхний с шаров. TOYOTA LAND CRUISER 100...   4085   555   \n",
       "2      Рычаг подвески верхний с шаров. TOYOTA SURF/PR...   3760   555   \n",
       "3             Рычаг верхний с шаров. HONDA CR-V 96-01 LH   4800   555   \n",
       "4             Рычаг верхний с шаров. HONDA CR-V 96-01 RH   4800   555   \n",
       "...                                                  ...    ...   ...   \n",
       "53969  Лист рессоры коренной FIAT DUCATO / PEUGEOT BO...  11790   ЧМЗ   \n",
       "53970                    Рессора задняя FORD TRANSIT 06-  19370   ЧМЗ   \n",
       "53971             Лист рессоры коренной FORD TRANSIT 06-   9825   ЧМЗ   \n",
       "53972               Рессора задняя FIAT DUCATO 244 02-06  14370   ЧМЗ   \n",
       "53973              Рессора задняя RENAULT MASTER III 11-  11710   ЧМЗ   \n",
       "\n",
       "                                               ImageUrls Description  \n",
       "0      http://static.autotrade.su/nomenclature/wm/m/3...              \n",
       "1      http://static.autotrade.su/nomenclature/wm/m/e...              \n",
       "2      http://static.autotrade.su/nomenclature/wm/m/b...              \n",
       "3      http://static.autotrade.su/nomenclature/wm/m/1...              \n",
       "4      http://static.autotrade.su/nomenclature/wm/m/5...              \n",
       "...                                                  ...         ...  \n",
       "53969  http://static.autotrade.su/nomenclature/wm/m/e...              \n",
       "53970  http://static.autotrade.su/nomenclature/wm/m/b...              \n",
       "53971  http://static.autotrade.su/nomenclature/wm/m/3...              \n",
       "53972  http://static.autotrade.su/nomenclature/wm/m/e...              \n",
       "53973  http://static.autotrade.su/nomenclature/wm/m/0...              \n",
       "\n",
       "[53974 rows x 6 columns]"
      ]
     },
     "execution_count": 36,
     "metadata": {},
     "output_type": "execute_result"
    }
   ],
   "source": [
    "df_прайс"
   ]
  },
  {
   "cell_type": "code",
   "execution_count": null,
   "id": "9ecc4667-6896-4aee-9a49-046e96fc7cc2",
   "metadata": {},
   "outputs": [],
   "source": []
  },
  {
   "cell_type": "markdown",
   "id": "699bbc2b-dcd5-4008-a121-bdab5c870a38",
   "metadata": {
    "tags": []
   },
   "source": [
    "<div class=\"alert alert-block alert-info\"><font size=3>\n",
    "<b>df_профитлига"
   ]
  },
  {
   "cell_type": "code",
   "execution_count": 37,
   "id": "d7db015e-79a9-4c1d-8dce-4e98af72a26c",
   "metadata": {
    "tags": []
   },
   "outputs": [],
   "source": [
    "df_профитлига['ImageUrls'] = ''\n",
    "df_профитлига['Description'] = ''"
   ]
  },
  {
   "cell_type": "code",
   "execution_count": 38,
   "id": "aea360e8-cdab-4d76-8599-d2adea6a810c",
   "metadata": {
    "tags": []
   },
   "outputs": [],
   "source": [
    "df_профитлига = df_профитлига.rename(columns={\n",
    "                     'Номенклатура.Производитель':'Brand',\n",
    "                     'Артикул':'ID',\n",
    "                     'Наименование полное':'Title',\n",
    "                     'Цена':'Price',\n",
    "                     # 'Изображение':'ImageUrls',\n",
    "                                   })"
   ]
  },
  {
   "cell_type": "code",
   "execution_count": 39,
   "id": "483470ca-b9a0-4919-8088-80624d462ff1",
   "metadata": {
    "tags": []
   },
   "outputs": [
    {
     "data": {
      "text/plain": [
       "Index(['Brand', 'ID', 'Title', 'Единица измерения', 'Кратность', 'Price',\n",
       "       'ПредставлениеОстатка', 'ImageUrls', 'Description'],\n",
       "      dtype='object')"
      ]
     },
     "execution_count": 39,
     "metadata": {},
     "output_type": "execute_result"
    }
   ],
   "source": [
    "df_профитлига.columns"
   ]
  },
  {
   "cell_type": "code",
   "execution_count": 40,
   "id": "992a6dca-f7a0-4e94-96c7-ff109ce437fa",
   "metadata": {
    "tags": []
   },
   "outputs": [],
   "source": [
    "df_профитлига = df_профитлига[[\n",
    "'ID', \n",
    "    'Title', \n",
    "    'Price', \n",
    "    \n",
    "'Brand', \n",
    "    'ImageUrls',\n",
    "    'Description'\n",
    "]]"
   ]
  },
  {
   "cell_type": "code",
   "execution_count": 41,
   "id": "5970949e-cef0-450c-894b-4acf92f698d6",
   "metadata": {
    "tags": []
   },
   "outputs": [
    {
     "data": {
      "text/html": [
       "<div>\n",
       "<style scoped>\n",
       "    .dataframe tbody tr th:only-of-type {\n",
       "        vertical-align: middle;\n",
       "    }\n",
       "\n",
       "    .dataframe tbody tr th {\n",
       "        vertical-align: top;\n",
       "    }\n",
       "\n",
       "    .dataframe thead th {\n",
       "        text-align: right;\n",
       "    }\n",
       "</style>\n",
       "<table border=\"1\" class=\"dataframe\">\n",
       "  <thead>\n",
       "    <tr style=\"text-align: right;\">\n",
       "      <th></th>\n",
       "      <th>ID</th>\n",
       "      <th>Title</th>\n",
       "      <th>Price</th>\n",
       "      <th>Brand</th>\n",
       "      <th>ImageUrls</th>\n",
       "      <th>Description</th>\n",
       "    </tr>\n",
       "  </thead>\n",
       "  <tbody>\n",
       "    <tr>\n",
       "      <th>0</th>\n",
       "      <td>40006</td>\n",
       "      <td>3TON Антигель и очиститель диз топлива TT-310 ...</td>\n",
       "      <td>117.72</td>\n",
       "      <td>3TON</td>\n",
       "      <td></td>\n",
       "      <td></td>\n",
       "    </tr>\n",
       "    <tr>\n",
       "      <th>1</th>\n",
       "      <td>40007</td>\n",
       "      <td>3TON Вытеснитель влаги и очиститель топл систе...</td>\n",
       "      <td>118.71</td>\n",
       "      <td>3TON</td>\n",
       "      <td></td>\n",
       "      <td></td>\n",
       "    </tr>\n",
       "    <tr>\n",
       "      <th>2</th>\n",
       "      <td>40008</td>\n",
       "      <td>3TON Герметик системы охлаждения ТР-303 (0.354L)</td>\n",
       "      <td>75.46</td>\n",
       "      <td>3TON</td>\n",
       "      <td></td>\n",
       "      <td></td>\n",
       "    </tr>\n",
       "    <tr>\n",
       "      <th>3</th>\n",
       "      <td>40009</td>\n",
       "      <td>3TON Очиститель топл системы ДИЗЕЛЬ (в топл. б...</td>\n",
       "      <td>117.45</td>\n",
       "      <td>3TON</td>\n",
       "      <td></td>\n",
       "      <td></td>\n",
       "    </tr>\n",
       "    <tr>\n",
       "      <th>4</th>\n",
       "      <td>40019</td>\n",
       "      <td>3TON Очиститель двигателя триггер ТH-513 (0.52L)</td>\n",
       "      <td>121.01</td>\n",
       "      <td>3TON</td>\n",
       "      <td></td>\n",
       "      <td></td>\n",
       "    </tr>\n",
       "    <tr>\n",
       "      <th>...</th>\n",
       "      <td>...</td>\n",
       "      <td>...</td>\n",
       "      <td>...</td>\n",
       "      <td>...</td>\n",
       "      <td>...</td>\n",
       "      <td>...</td>\n",
       "    </tr>\n",
       "    <tr>\n",
       "      <th>87517</th>\n",
       "      <td>RB701</td>\n",
       "      <td>Фонарь Рабочий серия \"Практик\" 5Вт COB. 3xAA. ...</td>\n",
       "      <td>248.98</td>\n",
       "      <td>ЭРА</td>\n",
       "      <td></td>\n",
       "      <td></td>\n",
       "    </tr>\n",
       "    <tr>\n",
       "      <th>87518</th>\n",
       "      <td>UB402</td>\n",
       "      <td>Фонарь универс. Джет 1.5Вт COB. алюм. 3xAAA в ...</td>\n",
       "      <td>143.22</td>\n",
       "      <td>ЭРА</td>\n",
       "      <td></td>\n",
       "      <td></td>\n",
       "    </tr>\n",
       "    <tr>\n",
       "      <th>87519</th>\n",
       "      <td>Б0036775</td>\n",
       "      <td>Лампа H3 12V 55W +50% PK22s (лампа головного с...</td>\n",
       "      <td>59.05</td>\n",
       "      <td>ЭРА</td>\n",
       "      <td></td>\n",
       "      <td></td>\n",
       "    </tr>\n",
       "    <tr>\n",
       "      <th>87520</th>\n",
       "      <td>Б0037571</td>\n",
       "      <td>Лампа H3 12V 55W +50% PK22s блистер (лампа гол...</td>\n",
       "      <td>75.35</td>\n",
       "      <td>ЭРА</td>\n",
       "      <td></td>\n",
       "      <td></td>\n",
       "    </tr>\n",
       "    <tr>\n",
       "      <th>87521</th>\n",
       "      <td>Б0054033</td>\n",
       "      <td>Фонарь налобный ЭРА GA-807 светодиод-й \"Кибер\"...</td>\n",
       "      <td>937.19</td>\n",
       "      <td>ЭРА</td>\n",
       "      <td></td>\n",
       "      <td></td>\n",
       "    </tr>\n",
       "  </tbody>\n",
       "</table>\n",
       "<p>87522 rows × 6 columns</p>\n",
       "</div>"
      ],
      "text/plain": [
       "              ID                                              Title   Price  \\\n",
       "0         40006   3TON Антигель и очиститель диз топлива TT-310 ...  117.72   \n",
       "1         40007   3TON Вытеснитель влаги и очиститель топл систе...  118.71   \n",
       "2         40008    3TON Герметик системы охлаждения ТР-303 (0.354L)   75.46   \n",
       "3         40009   3TON Очиститель топл системы ДИЗЕЛЬ (в топл. б...  117.45   \n",
       "4         40019    3TON Очиститель двигателя триггер ТH-513 (0.52L)  121.01   \n",
       "...          ...                                                ...     ...   \n",
       "87517     RB701   Фонарь Рабочий серия \"Практик\" 5Вт COB. 3xAA. ...  248.98   \n",
       "87518     UB402   Фонарь универс. Джет 1.5Вт COB. алюм. 3xAAA в ...  143.22   \n",
       "87519  Б0036775   Лампа H3 12V 55W +50% PK22s (лампа головного с...   59.05   \n",
       "87520  Б0037571   Лампа H3 12V 55W +50% PK22s блистер (лампа гол...   75.35   \n",
       "87521  Б0054033   Фонарь налобный ЭРА GA-807 светодиод-й \"Кибер\"...  937.19   \n",
       "\n",
       "      Brand ImageUrls Description  \n",
       "0      3TON                        \n",
       "1      3TON                        \n",
       "2      3TON                        \n",
       "3      3TON                        \n",
       "4      3TON                        \n",
       "...     ...       ...         ...  \n",
       "87517   ЭРА                        \n",
       "87518   ЭРА                        \n",
       "87519   ЭРА                        \n",
       "87520   ЭРА                        \n",
       "87521   ЭРА                        \n",
       "\n",
       "[87522 rows x 6 columns]"
      ]
     },
     "execution_count": 41,
     "metadata": {},
     "output_type": "execute_result"
    }
   ],
   "source": [
    "df_профитлига"
   ]
  },
  {
   "cell_type": "code",
   "execution_count": null,
   "id": "2239445b-a490-4f3e-ae61-7bbad4238868",
   "metadata": {},
   "outputs": [],
   "source": []
  },
  {
   "cell_type": "markdown",
   "id": "455b89c5-6d81-4583-9369-3db98e5d3668",
   "metadata": {
    "tags": []
   },
   "source": [
    "<div class=\"alert alert-block alert-info\"><font size=3>\n",
    "<b>df_berg"
   ]
  },
  {
   "cell_type": "code",
   "execution_count": 42,
   "id": "e6581bfa-99c2-4b7e-9ddf-536098654eaf",
   "metadata": {
    "tags": []
   },
   "outputs": [],
   "source": [
    "df_berg['ImageUrls'] = ''\n",
    "df_berg['Description'] = ''"
   ]
  },
  {
   "cell_type": "code",
   "execution_count": 43,
   "id": "21c234b2-5445-486f-9c24-a5189fa83f2e",
   "metadata": {
    "tags": []
   },
   "outputs": [],
   "source": [
    "df_berg = df_berg.rename(columns={\n",
    "                     'Бренд':'Brand',\n",
    "                     'Артикул':'ID',\n",
    "                     'Наименование':'Title',\n",
    "                     'Цена руб':'Price',\n",
    "                     # 'Изображение':'ImageUrls',\n",
    "                                   })"
   ]
  },
  {
   "cell_type": "code",
   "execution_count": 44,
   "id": "6c9347d3-d485-4ddd-8cd7-7b00e32ce8aa",
   "metadata": {
    "tags": []
   },
   "outputs": [
    {
     "data": {
      "text/plain": [
       "Index(['ID', 'Title', 'Brand', 'Склад', 'Количество', 'Price', 'Распродажа',\n",
       "       'Мин. заказ', 'Срок поставки (Рабочие дни)', 'Уцененный товар',\n",
       "       'Авиадоставка', 'Товар в пути', 'ImageUrls', 'Description'],\n",
       "      dtype='object')"
      ]
     },
     "execution_count": 44,
     "metadata": {},
     "output_type": "execute_result"
    }
   ],
   "source": [
    "df_berg.columns"
   ]
  },
  {
   "cell_type": "code",
   "execution_count": 45,
   "id": "2e927a8d-efe1-459a-8531-2389e767ec8b",
   "metadata": {
    "tags": []
   },
   "outputs": [],
   "source": [
    "df_berg = df_berg[[\n",
    "'ID', \n",
    "    'Title', \n",
    "    'Price', \n",
    "    \n",
    "'Brand', \n",
    "    'ImageUrls',\n",
    "    'Description'\n",
    "]]"
   ]
  },
  {
   "cell_type": "code",
   "execution_count": 46,
   "id": "b377976a-e3bb-4f4e-811d-cab61b0cecc6",
   "metadata": {
    "tags": []
   },
   "outputs": [
    {
     "data": {
      "text/html": [
       "<div>\n",
       "<style scoped>\n",
       "    .dataframe tbody tr th:only-of-type {\n",
       "        vertical-align: middle;\n",
       "    }\n",
       "\n",
       "    .dataframe tbody tr th {\n",
       "        vertical-align: top;\n",
       "    }\n",
       "\n",
       "    .dataframe thead th {\n",
       "        text-align: right;\n",
       "    }\n",
       "</style>\n",
       "<table border=\"1\" class=\"dataframe\">\n",
       "  <thead>\n",
       "    <tr style=\"text-align: right;\">\n",
       "      <th></th>\n",
       "      <th>ID</th>\n",
       "      <th>Title</th>\n",
       "      <th>Price</th>\n",
       "      <th>Brand</th>\n",
       "      <th>ImageUrls</th>\n",
       "      <th>Description</th>\n",
       "    </tr>\n",
       "  </thead>\n",
       "  <tbody>\n",
       "    <tr>\n",
       "      <th>0</th>\n",
       "      <td>AN-687WK</td>\n",
       "      <td>Колодки тормозные дисковые передние LEXUS RX (...</td>\n",
       "      <td>1310.0</td>\n",
       "      <td>AKEBONO</td>\n",
       "      <td></td>\n",
       "      <td></td>\n",
       "    </tr>\n",
       "    <tr>\n",
       "      <th>1</th>\n",
       "      <td>AN-651WK</td>\n",
       "      <td>Колодки тормозные дисковые задние LANCER X (CY...</td>\n",
       "      <td>1418.0</td>\n",
       "      <td>AKEBONO</td>\n",
       "      <td></td>\n",
       "      <td></td>\n",
       "    </tr>\n",
       "    <tr>\n",
       "      <th>2</th>\n",
       "      <td>AN-334K</td>\n",
       "      <td>Колодки тормозные дисковые передние ПОДХОДЯТ Д...</td>\n",
       "      <td>1611.0</td>\n",
       "      <td>AKEBONO</td>\n",
       "      <td></td>\n",
       "      <td></td>\n",
       "    </tr>\n",
       "    <tr>\n",
       "      <th>3</th>\n",
       "      <td>AN-677WK</td>\n",
       "      <td>Колодки тормозные дисковые передние ПОДХОДЯТ Д...</td>\n",
       "      <td>1611.0</td>\n",
       "      <td>AKEBONO</td>\n",
       "      <td></td>\n",
       "      <td></td>\n",
       "    </tr>\n",
       "    <tr>\n",
       "      <th>4</th>\n",
       "      <td>AN-650WK</td>\n",
       "      <td>Колодки тормозные дисковые передние MITSUBISHI...</td>\n",
       "      <td>1611.0</td>\n",
       "      <td>AKEBONO</td>\n",
       "      <td></td>\n",
       "      <td></td>\n",
       "    </tr>\n",
       "    <tr>\n",
       "      <th>...</th>\n",
       "      <td>...</td>\n",
       "      <td>...</td>\n",
       "      <td>...</td>\n",
       "      <td>...</td>\n",
       "      <td>...</td>\n",
       "      <td>...</td>\n",
       "    </tr>\n",
       "    <tr>\n",
       "      <th>43497</th>\n",
       "      <td>AR2644</td>\n",
       "      <td>Привод для а/м BMW X3 F25 10- 2.0D/3.0D перед....</td>\n",
       "      <td>18191.0</td>\n",
       "      <td>TRIALLI</td>\n",
       "      <td></td>\n",
       "      <td></td>\n",
       "    </tr>\n",
       "    <tr>\n",
       "      <th>43498</th>\n",
       "      <td>FR2715</td>\n",
       "      <td>Сцепление в сборе для а/м Geely Atlas (16-) 2....</td>\n",
       "      <td>26927.0</td>\n",
       "      <td>TRIALLI</td>\n",
       "      <td></td>\n",
       "      <td></td>\n",
       "    </tr>\n",
       "    <tr>\n",
       "      <th>43499</th>\n",
       "      <td>FR1918</td>\n",
       "      <td>Сцепление в сборе для а/м Toyota Hiace (98-) (...</td>\n",
       "      <td>27168.0</td>\n",
       "      <td>TRIALLI</td>\n",
       "      <td></td>\n",
       "      <td></td>\n",
       "    </tr>\n",
       "    <tr>\n",
       "      <th>43500</th>\n",
       "      <td>FR836</td>\n",
       "      <td>Сцепление в сборе для а/м Scania 4 95- K432-30...</td>\n",
       "      <td>63525.0</td>\n",
       "      <td>TRIALLI</td>\n",
       "      <td></td>\n",
       "      <td></td>\n",
       "    </tr>\n",
       "    <tr>\n",
       "      <th>43501</th>\n",
       "      <td>22062241HD</td>\n",
       "      <td>Полиуретановый сайлентблок передней подвески, ...</td>\n",
       "      <td>919.0</td>\n",
       "      <td>ТОЧКА ОПОРЫ</td>\n",
       "      <td></td>\n",
       "      <td></td>\n",
       "    </tr>\n",
       "  </tbody>\n",
       "</table>\n",
       "<p>43502 rows × 6 columns</p>\n",
       "</div>"
      ],
      "text/plain": [
       "               ID                                              Title    Price  \\\n",
       "0        AN-687WK  Колодки тормозные дисковые передние LEXUS RX (...   1310.0   \n",
       "1        AN-651WK  Колодки тормозные дисковые задние LANCER X (CY...   1418.0   \n",
       "2         AN-334K  Колодки тормозные дисковые передние ПОДХОДЯТ Д...   1611.0   \n",
       "3        AN-677WK  Колодки тормозные дисковые передние ПОДХОДЯТ Д...   1611.0   \n",
       "4        AN-650WK  Колодки тормозные дисковые передние MITSUBISHI...   1611.0   \n",
       "...           ...                                                ...      ...   \n",
       "43497      AR2644  Привод для а/м BMW X3 F25 10- 2.0D/3.0D перед....  18191.0   \n",
       "43498      FR2715  Сцепление в сборе для а/м Geely Atlas (16-) 2....  26927.0   \n",
       "43499      FR1918  Сцепление в сборе для а/м Toyota Hiace (98-) (...  27168.0   \n",
       "43500       FR836  Сцепление в сборе для а/м Scania 4 95- K432-30...  63525.0   \n",
       "43501  22062241HD  Полиуретановый сайлентблок передней подвески, ...    919.0   \n",
       "\n",
       "             Brand ImageUrls Description  \n",
       "0          AKEBONO                        \n",
       "1          AKEBONO                        \n",
       "2          AKEBONO                        \n",
       "3          AKEBONO                        \n",
       "4          AKEBONO                        \n",
       "...            ...       ...         ...  \n",
       "43497      TRIALLI                        \n",
       "43498      TRIALLI                        \n",
       "43499      TRIALLI                        \n",
       "43500      TRIALLI                        \n",
       "43501  ТОЧКА ОПОРЫ                        \n",
       "\n",
       "[43502 rows x 6 columns]"
      ]
     },
     "execution_count": 46,
     "metadata": {},
     "output_type": "execute_result"
    }
   ],
   "source": [
    "df_berg"
   ]
  },
  {
   "cell_type": "code",
   "execution_count": null,
   "id": "52d8474e-34a6-4c2a-a038-931feaee9dc8",
   "metadata": {},
   "outputs": [],
   "source": []
  },
  {
   "cell_type": "markdown",
   "id": "70120b2c-b55b-4476-aab2-67e8270094ab",
   "metadata": {
    "tags": []
   },
   "source": [
    "<div class=\"alert alert-block alert-info\"><font size=3>\n",
    "<b>df_forum"
   ]
  },
  {
   "cell_type": "code",
   "execution_count": 47,
   "id": "e26af214-a6c6-42ac-a806-514b016095cf",
   "metadata": {
    "tags": []
   },
   "outputs": [],
   "source": [
    "df_forum['ImageUrls'] = ''\n",
    "df_forum['Description'] = ''"
   ]
  },
  {
   "cell_type": "code",
   "execution_count": 48,
   "id": "e7cdedfe-5fa0-4cb2-ab00-31676b89305d",
   "metadata": {
    "tags": []
   },
   "outputs": [],
   "source": [
    "df_forum = df_forum.rename(columns={\n",
    "                     'ГРУППА':'Brand',\n",
    "                     '№ ПРОИЗВ.':'ID',\n",
    "                     # 'Наименование':'Title',\n",
    "                     'ЦЕНА, РУБ':'Price',\n",
    "                     # 'Изображение':'ImageUrls',\n",
    "                                   })"
   ]
  },
  {
   "cell_type": "code",
   "execution_count": 49,
   "id": "3f18e4c5-12ed-40ba-8815-0cf38bf88123",
   "metadata": {
    "tags": []
   },
   "outputs": [
    {
     "data": {
      "text/plain": [
       "Index(['Brand', 'ID', 'НАИМЕНОВАНИЕ', 'МОДЕЛЬ', 'Price', 'НАЛичие',\n",
       "       'КРАТНОСТЬ', 'КОД', 'Возможность возврата', 'ImageUrls', 'Description'],\n",
       "      dtype='object')"
      ]
     },
     "execution_count": 49,
     "metadata": {},
     "output_type": "execute_result"
    }
   ],
   "source": [
    "df_forum.columns"
   ]
  },
  {
   "cell_type": "code",
   "execution_count": 50,
   "id": "191d6cd7-0af2-46c0-b4d4-acb9d100e3eb",
   "metadata": {
    "tags": []
   },
   "outputs": [],
   "source": [
    "df_forum['Title'] = df_forum['НАИМЕНОВАНИЕ']  + ' ' + df_forum['МОДЕЛЬ'] "
   ]
  },
  {
   "cell_type": "code",
   "execution_count": 51,
   "id": "a70a6497-d744-4676-a461-1ef919e7b8b6",
   "metadata": {
    "tags": []
   },
   "outputs": [],
   "source": [
    "df_forum = df_forum[[\n",
    "'ID', \n",
    "    'Title', \n",
    "    'Price', \n",
    "    \n",
    "'Brand', \n",
    "    'ImageUrls',\n",
    "    'Description'\n",
    "]]"
   ]
  },
  {
   "cell_type": "code",
   "execution_count": 52,
   "id": "af8a0fc2-f97e-4d92-8024-5137bcf0355f",
   "metadata": {
    "tags": []
   },
   "outputs": [
    {
     "data": {
      "text/html": [
       "<div>\n",
       "<style scoped>\n",
       "    .dataframe tbody tr th:only-of-type {\n",
       "        vertical-align: middle;\n",
       "    }\n",
       "\n",
       "    .dataframe tbody tr th {\n",
       "        vertical-align: top;\n",
       "    }\n",
       "\n",
       "    .dataframe thead th {\n",
       "        text-align: right;\n",
       "    }\n",
       "</style>\n",
       "<table border=\"1\" class=\"dataframe\">\n",
       "  <thead>\n",
       "    <tr style=\"text-align: right;\">\n",
       "      <th></th>\n",
       "      <th>ID</th>\n",
       "      <th>Title</th>\n",
       "      <th>Price</th>\n",
       "      <th>Brand</th>\n",
       "      <th>ImageUrls</th>\n",
       "      <th>Description</th>\n",
       "    </tr>\n",
       "  </thead>\n",
       "  <tbody>\n",
       "    <tr>\n",
       "      <th>0</th>\n",
       "      <td>6PK1018</td>\n",
       "      <td>Ремень поликлиновый MERCEDES-BENZ</td>\n",
       "      <td>412.9</td>\n",
       "      <td>A.B.A</td>\n",
       "      <td></td>\n",
       "      <td></td>\n",
       "    </tr>\n",
       "    <tr>\n",
       "      <th>1</th>\n",
       "      <td>YD100280</td>\n",
       "      <td>Натяжитель поликл. ремня с роликом CITROEN Jum...</td>\n",
       "      <td>1716.3</td>\n",
       "      <td>ABA</td>\n",
       "      <td></td>\n",
       "      <td></td>\n",
       "    </tr>\n",
       "    <tr>\n",
       "      <th>2</th>\n",
       "      <td>YD106015</td>\n",
       "      <td>Ролик натяжителя ремня ГРМ FIAT 500/Doblo/Pand...</td>\n",
       "      <td>1230.6</td>\n",
       "      <td>ABA</td>\n",
       "      <td></td>\n",
       "      <td></td>\n",
       "    </tr>\n",
       "    <tr>\n",
       "      <th>3</th>\n",
       "      <td>YD159614</td>\n",
       "      <td>Натяжитель поликлин.ремня с 2 -мя роликами BMW...</td>\n",
       "      <td>1296.0</td>\n",
       "      <td>ABA</td>\n",
       "      <td></td>\n",
       "      <td></td>\n",
       "    </tr>\n",
       "    <tr>\n",
       "      <th>4</th>\n",
       "      <td>YD205581</td>\n",
       "      <td>Ролик натяжителя ремня ГРМ RENAULT Duster/Loga...</td>\n",
       "      <td>1257.1</td>\n",
       "      <td>ABA</td>\n",
       "      <td></td>\n",
       "      <td></td>\n",
       "    </tr>\n",
       "    <tr>\n",
       "      <th>...</th>\n",
       "      <td>...</td>\n",
       "      <td>...</td>\n",
       "      <td>...</td>\n",
       "      <td>...</td>\n",
       "      <td>...</td>\n",
       "      <td>...</td>\n",
       "    </tr>\n",
       "    <tr>\n",
       "      <th>315717</th>\n",
       "      <td>4U-TH-019658</td>\n",
       "      <td>ПАТРУБОК ПАТРУБОК ТУРБИНЫ (БЕЗ ПЛАСТ.ТРУБКИ) Д...</td>\n",
       "      <td>1165.0</td>\n",
       "      <td>4U</td>\n",
       "      <td></td>\n",
       "      <td></td>\n",
       "    </tr>\n",
       "    <tr>\n",
       "      <th>315718</th>\n",
       "      <td>4U-TH-033334</td>\n",
       "      <td>ПАТРУБОК ТУРБИНЫ MERCEDES VITO / SPRINTER</td>\n",
       "      <td>665.0</td>\n",
       "      <td>4U</td>\n",
       "      <td></td>\n",
       "      <td></td>\n",
       "    </tr>\n",
       "    <tr>\n",
       "      <th>315719</th>\n",
       "      <td>4U-TRE-1019</td>\n",
       "      <td>НАКОНЕЧНИК РУЛЕВОЙ ТЯГИ TOYOTA RAV 4 V (_A5_, ...</td>\n",
       "      <td>841.0</td>\n",
       "      <td>4U</td>\n",
       "      <td></td>\n",
       "      <td></td>\n",
       "    </tr>\n",
       "    <tr>\n",
       "      <th>315720</th>\n",
       "      <td>4U-TRE-1020</td>\n",
       "      <td>НАКОНЕЧНИК РУЛЕВОЙ ТЯГИ TOYOTA HIGHLANDER (GSU...</td>\n",
       "      <td>917.0</td>\n",
       "      <td>4U</td>\n",
       "      <td></td>\n",
       "      <td></td>\n",
       "    </tr>\n",
       "    <tr>\n",
       "      <th>315721</th>\n",
       "      <td>4U-TR-1014</td>\n",
       "      <td>ТЯГА РУЛЕВАЯ HYUNDAI SONATA VIII (DN8) 2019-</td>\n",
       "      <td>707.0</td>\n",
       "      <td>4U</td>\n",
       "      <td></td>\n",
       "      <td></td>\n",
       "    </tr>\n",
       "  </tbody>\n",
       "</table>\n",
       "<p>315722 rows × 6 columns</p>\n",
       "</div>"
      ],
      "text/plain": [
       "                  ID                                              Title  \\\n",
       "0            6PK1018                  Ремень поликлиновый MERCEDES-BENZ   \n",
       "1           YD100280  Натяжитель поликл. ремня с роликом CITROEN Jum...   \n",
       "2           YD106015  Ролик натяжителя ремня ГРМ FIAT 500/Doblo/Pand...   \n",
       "3           YD159614  Натяжитель поликлин.ремня с 2 -мя роликами BMW...   \n",
       "4           YD205581  Ролик натяжителя ремня ГРМ RENAULT Duster/Loga...   \n",
       "...              ...                                                ...   \n",
       "315717  4U-TH-019658  ПАТРУБОК ПАТРУБОК ТУРБИНЫ (БЕЗ ПЛАСТ.ТРУБКИ) Д...   \n",
       "315718  4U-TH-033334          ПАТРУБОК ТУРБИНЫ MERCEDES VITO / SPRINTER   \n",
       "315719   4U-TRE-1019  НАКОНЕЧНИК РУЛЕВОЙ ТЯГИ TOYOTA RAV 4 V (_A5_, ...   \n",
       "315720   4U-TRE-1020  НАКОНЕЧНИК РУЛЕВОЙ ТЯГИ TOYOTA HIGHLANDER (GSU...   \n",
       "315721    4U-TR-1014       ТЯГА РУЛЕВАЯ HYUNDAI SONATA VIII (DN8) 2019-   \n",
       "\n",
       "         Price  Brand ImageUrls Description  \n",
       "0        412.9  A.B.A                        \n",
       "1       1716.3    ABA                        \n",
       "2       1230.6    ABA                        \n",
       "3       1296.0    ABA                        \n",
       "4       1257.1    ABA                        \n",
       "...        ...    ...       ...         ...  \n",
       "315717  1165.0     4U                        \n",
       "315718   665.0     4U                        \n",
       "315719   841.0     4U                        \n",
       "315720   917.0     4U                        \n",
       "315721   707.0     4U                        \n",
       "\n",
       "[315722 rows x 6 columns]"
      ]
     },
     "execution_count": 52,
     "metadata": {},
     "output_type": "execute_result"
    }
   ],
   "source": [
    "df_forum"
   ]
  },
  {
   "cell_type": "markdown",
   "id": "0752746e-12ef-44a4-8a97-20230940ec71",
   "metadata": {
    "tags": []
   },
   "source": [
    "<div class=\"alert alert-block alert-info\"><font size=3>\n",
    "<b>Объединим датафреймы"
   ]
  },
  {
   "cell_type": "code",
   "execution_count": 53,
   "id": "f13d8f9a-c6e7-4688-9a02-b698be262d8d",
   "metadata": {
    "tags": []
   },
   "outputs": [],
   "source": [
    "df_ = pd.concat([df_kr, df_kr2,df_msk, df_price, df_прайс, df_профитлига, df_berg, df_forum])"
   ]
  },
  {
   "cell_type": "code",
   "execution_count": 54,
   "id": "7207de12-492e-49e8-a59c-9d890e18c962",
   "metadata": {
    "tags": []
   },
   "outputs": [],
   "source": [
    "df_ = df_.fillna('')"
   ]
  },
  {
   "cell_type": "code",
   "execution_count": 55,
   "id": "1d8a459d-b985-4af0-9bfb-b10ac45db407",
   "metadata": {
    "tags": []
   },
   "outputs": [
    {
     "data": {
      "text/html": [
       "<div>\n",
       "<style scoped>\n",
       "    .dataframe tbody tr th:only-of-type {\n",
       "        vertical-align: middle;\n",
       "    }\n",
       "\n",
       "    .dataframe tbody tr th {\n",
       "        vertical-align: top;\n",
       "    }\n",
       "\n",
       "    .dataframe thead th {\n",
       "        text-align: right;\n",
       "    }\n",
       "</style>\n",
       "<table border=\"1\" class=\"dataframe\">\n",
       "  <thead>\n",
       "    <tr style=\"text-align: right;\">\n",
       "      <th></th>\n",
       "      <th>ID</th>\n",
       "      <th>Title</th>\n",
       "      <th>Price</th>\n",
       "      <th>Brand</th>\n",
       "      <th>ImageUrls</th>\n",
       "      <th>Description</th>\n",
       "    </tr>\n",
       "  </thead>\n",
       "  <tbody>\n",
       "    <tr>\n",
       "      <th>0</th>\n",
       "      <td>4U-SH-033557</td>\n",
       "      <td>Шланг вентиляции картера MB M112</td>\n",
       "      <td>406.0</td>\n",
       "      <td>4U</td>\n",
       "      <td></td>\n",
       "      <td>MERCEDES BENZ A1120180482</td>\n",
       "    </tr>\n",
       "    <tr>\n",
       "      <th>1</th>\n",
       "      <td>AU-P-13633</td>\n",
       "      <td>Сайлентблок передн нижн рычага задн audi a8 09</td>\n",
       "      <td>845.0</td>\n",
       "      <td>4U</td>\n",
       "      <td></td>\n",
       "      <td>VAG 4H0407182; VAG 4H0407182B; VAG 4H0407182C</td>\n",
       "    </tr>\n",
       "    <tr>\n",
       "      <th>2</th>\n",
       "      <td>AU-P-18022</td>\n",
       "      <td>Сайлентблок рычага VAG GOLF IV/BORA/A3 пер.подв.</td>\n",
       "      <td>292.0</td>\n",
       "      <td>4U</td>\n",
       "      <td></td>\n",
       "      <td>VAG 180407181; VAG 1J0407181; VAG 1J0407181A</td>\n",
       "    </tr>\n",
       "    <tr>\n",
       "      <th>3</th>\n",
       "      <td>AU-P-53987</td>\n",
       "      <td>Сайлентблок рычага VAG A3/TOURAN/PASSAT/GOLF V...</td>\n",
       "      <td>336.0</td>\n",
       "      <td>4U</td>\n",
       "      <td></td>\n",
       "      <td>VAG 1K0407182; VAG 1K0407182A; VAG 5Q0407182</td>\n",
       "    </tr>\n",
       "    <tr>\n",
       "      <th>4</th>\n",
       "      <td>BW-A-53023</td>\n",
       "      <td>Наконечник лев bmw e36 9099</td>\n",
       "      <td>758.0</td>\n",
       "      <td>4U</td>\n",
       "      <td></td>\n",
       "      <td>BMW 32111139313; BMW 32111140489</td>\n",
       "    </tr>\n",
       "    <tr>\n",
       "      <th>...</th>\n",
       "      <td>...</td>\n",
       "      <td>...</td>\n",
       "      <td>...</td>\n",
       "      <td>...</td>\n",
       "      <td>...</td>\n",
       "      <td>...</td>\n",
       "    </tr>\n",
       "    <tr>\n",
       "      <th>315717</th>\n",
       "      <td>4U-TH-019658</td>\n",
       "      <td>ПАТРУБОК ПАТРУБОК ТУРБИНЫ (БЕЗ ПЛАСТ.ТРУБКИ) Д...</td>\n",
       "      <td>1165.0</td>\n",
       "      <td>4U</td>\n",
       "      <td></td>\n",
       "      <td></td>\n",
       "    </tr>\n",
       "    <tr>\n",
       "      <th>315718</th>\n",
       "      <td>4U-TH-033334</td>\n",
       "      <td>ПАТРУБОК ТУРБИНЫ MERCEDES VITO / SPRINTER</td>\n",
       "      <td>665.0</td>\n",
       "      <td>4U</td>\n",
       "      <td></td>\n",
       "      <td></td>\n",
       "    </tr>\n",
       "    <tr>\n",
       "      <th>315719</th>\n",
       "      <td>4U-TRE-1019</td>\n",
       "      <td>НАКОНЕЧНИК РУЛЕВОЙ ТЯГИ TOYOTA RAV 4 V (_A5_, ...</td>\n",
       "      <td>841.0</td>\n",
       "      <td>4U</td>\n",
       "      <td></td>\n",
       "      <td></td>\n",
       "    </tr>\n",
       "    <tr>\n",
       "      <th>315720</th>\n",
       "      <td>4U-TRE-1020</td>\n",
       "      <td>НАКОНЕЧНИК РУЛЕВОЙ ТЯГИ TOYOTA HIGHLANDER (GSU...</td>\n",
       "      <td>917.0</td>\n",
       "      <td>4U</td>\n",
       "      <td></td>\n",
       "      <td></td>\n",
       "    </tr>\n",
       "    <tr>\n",
       "      <th>315721</th>\n",
       "      <td>4U-TR-1014</td>\n",
       "      <td>ТЯГА РУЛЕВАЯ HYUNDAI SONATA VIII (DN8) 2019-</td>\n",
       "      <td>707.0</td>\n",
       "      <td>4U</td>\n",
       "      <td></td>\n",
       "      <td></td>\n",
       "    </tr>\n",
       "  </tbody>\n",
       "</table>\n",
       "<p>872957 rows × 6 columns</p>\n",
       "</div>"
      ],
      "text/plain": [
       "                  ID                                              Title  \\\n",
       "0       4U-SH-033557                   Шланг вентиляции картера MB M112   \n",
       "1         AU-P-13633     Сайлентблок передн нижн рычага задн audi a8 09   \n",
       "2         AU-P-18022   Сайлентблок рычага VAG GOLF IV/BORA/A3 пер.подв.   \n",
       "3         AU-P-53987  Сайлентблок рычага VAG A3/TOURAN/PASSAT/GOLF V...   \n",
       "4         BW-A-53023                        Наконечник лев bmw e36 9099   \n",
       "...              ...                                                ...   \n",
       "315717  4U-TH-019658  ПАТРУБОК ПАТРУБОК ТУРБИНЫ (БЕЗ ПЛАСТ.ТРУБКИ) Д...   \n",
       "315718  4U-TH-033334          ПАТРУБОК ТУРБИНЫ MERCEDES VITO / SPRINTER   \n",
       "315719   4U-TRE-1019  НАКОНЕЧНИК РУЛЕВОЙ ТЯГИ TOYOTA RAV 4 V (_A5_, ...   \n",
       "315720   4U-TRE-1020  НАКОНЕЧНИК РУЛЕВОЙ ТЯГИ TOYOTA HIGHLANDER (GSU...   \n",
       "315721    4U-TR-1014       ТЯГА РУЛЕВАЯ HYUNDAI SONATA VIII (DN8) 2019-   \n",
       "\n",
       "         Price Brand ImageUrls                                    Description  \n",
       "0        406.0    4U                                MERCEDES BENZ A1120180482  \n",
       "1        845.0    4U            VAG 4H0407182; VAG 4H0407182B; VAG 4H0407182C  \n",
       "2        292.0    4U             VAG 180407181; VAG 1J0407181; VAG 1J0407181A  \n",
       "3        336.0    4U             VAG 1K0407182; VAG 1K0407182A; VAG 5Q0407182  \n",
       "4        758.0    4U                         BMW 32111139313; BMW 32111140489  \n",
       "...        ...   ...       ...                                            ...  \n",
       "315717  1165.0    4U                                                           \n",
       "315718   665.0    4U                                                           \n",
       "315719   841.0    4U                                                           \n",
       "315720   917.0    4U                                                           \n",
       "315721   707.0    4U                                                           \n",
       "\n",
       "[872957 rows x 6 columns]"
      ]
     },
     "execution_count": 55,
     "metadata": {},
     "output_type": "execute_result"
    }
   ],
   "source": [
    "df_"
   ]
  },
  {
   "cell_type": "markdown",
   "id": "dd57cc62-e0a5-4a14-ab56-33e48cfed745",
   "metadata": {
    "tags": []
   },
   "source": [
    "<div class=\"alert alert-block alert-info\"><font size=3>\n",
    "<b>наченка"
   ]
  },
  {
   "cell_type": "code",
   "execution_count": 56,
   "id": "363d731e-8a00-44dd-a440-a6f83d2c45a5",
   "metadata": {
    "tags": []
   },
   "outputs": [],
   "source": [
    "df_['Price'] = df_['Price'] * 0.3"
   ]
  },
  {
   "cell_type": "code",
   "execution_count": 57,
   "id": "daa6eca2-9043-4138-912d-99651cc47114",
   "metadata": {
    "tags": []
   },
   "outputs": [
    {
     "data": {
      "text/html": [
       "<div>\n",
       "<style scoped>\n",
       "    .dataframe tbody tr th:only-of-type {\n",
       "        vertical-align: middle;\n",
       "    }\n",
       "\n",
       "    .dataframe tbody tr th {\n",
       "        vertical-align: top;\n",
       "    }\n",
       "\n",
       "    .dataframe thead th {\n",
       "        text-align: right;\n",
       "    }\n",
       "</style>\n",
       "<table border=\"1\" class=\"dataframe\">\n",
       "  <thead>\n",
       "    <tr style=\"text-align: right;\">\n",
       "      <th></th>\n",
       "      <th>ID</th>\n",
       "      <th>Title</th>\n",
       "      <th>Price</th>\n",
       "      <th>Brand</th>\n",
       "      <th>ImageUrls</th>\n",
       "      <th>Description</th>\n",
       "    </tr>\n",
       "  </thead>\n",
       "  <tbody>\n",
       "    <tr>\n",
       "      <th>0</th>\n",
       "      <td>4U-SH-033557</td>\n",
       "      <td>Шланг вентиляции картера MB M112</td>\n",
       "      <td>121.8</td>\n",
       "      <td>4U</td>\n",
       "      <td></td>\n",
       "      <td>MERCEDES BENZ A1120180482</td>\n",
       "    </tr>\n",
       "    <tr>\n",
       "      <th>1</th>\n",
       "      <td>AU-P-13633</td>\n",
       "      <td>Сайлентблок передн нижн рычага задн audi a8 09</td>\n",
       "      <td>253.5</td>\n",
       "      <td>4U</td>\n",
       "      <td></td>\n",
       "      <td>VAG 4H0407182; VAG 4H0407182B; VAG 4H0407182C</td>\n",
       "    </tr>\n",
       "    <tr>\n",
       "      <th>2</th>\n",
       "      <td>AU-P-18022</td>\n",
       "      <td>Сайлентблок рычага VAG GOLF IV/BORA/A3 пер.подв.</td>\n",
       "      <td>87.6</td>\n",
       "      <td>4U</td>\n",
       "      <td></td>\n",
       "      <td>VAG 180407181; VAG 1J0407181; VAG 1J0407181A</td>\n",
       "    </tr>\n",
       "    <tr>\n",
       "      <th>3</th>\n",
       "      <td>AU-P-53987</td>\n",
       "      <td>Сайлентблок рычага VAG A3/TOURAN/PASSAT/GOLF V...</td>\n",
       "      <td>100.8</td>\n",
       "      <td>4U</td>\n",
       "      <td></td>\n",
       "      <td>VAG 1K0407182; VAG 1K0407182A; VAG 5Q0407182</td>\n",
       "    </tr>\n",
       "    <tr>\n",
       "      <th>4</th>\n",
       "      <td>BW-A-53023</td>\n",
       "      <td>Наконечник лев bmw e36 9099</td>\n",
       "      <td>227.4</td>\n",
       "      <td>4U</td>\n",
       "      <td></td>\n",
       "      <td>BMW 32111139313; BMW 32111140489</td>\n",
       "    </tr>\n",
       "    <tr>\n",
       "      <th>...</th>\n",
       "      <td>...</td>\n",
       "      <td>...</td>\n",
       "      <td>...</td>\n",
       "      <td>...</td>\n",
       "      <td>...</td>\n",
       "      <td>...</td>\n",
       "    </tr>\n",
       "    <tr>\n",
       "      <th>315717</th>\n",
       "      <td>4U-TH-019658</td>\n",
       "      <td>ПАТРУБОК ПАТРУБОК ТУРБИНЫ (БЕЗ ПЛАСТ.ТРУБКИ) Д...</td>\n",
       "      <td>349.5</td>\n",
       "      <td>4U</td>\n",
       "      <td></td>\n",
       "      <td></td>\n",
       "    </tr>\n",
       "    <tr>\n",
       "      <th>315718</th>\n",
       "      <td>4U-TH-033334</td>\n",
       "      <td>ПАТРУБОК ТУРБИНЫ MERCEDES VITO / SPRINTER</td>\n",
       "      <td>199.5</td>\n",
       "      <td>4U</td>\n",
       "      <td></td>\n",
       "      <td></td>\n",
       "    </tr>\n",
       "    <tr>\n",
       "      <th>315719</th>\n",
       "      <td>4U-TRE-1019</td>\n",
       "      <td>НАКОНЕЧНИК РУЛЕВОЙ ТЯГИ TOYOTA RAV 4 V (_A5_, ...</td>\n",
       "      <td>252.3</td>\n",
       "      <td>4U</td>\n",
       "      <td></td>\n",
       "      <td></td>\n",
       "    </tr>\n",
       "    <tr>\n",
       "      <th>315720</th>\n",
       "      <td>4U-TRE-1020</td>\n",
       "      <td>НАКОНЕЧНИК РУЛЕВОЙ ТЯГИ TOYOTA HIGHLANDER (GSU...</td>\n",
       "      <td>275.1</td>\n",
       "      <td>4U</td>\n",
       "      <td></td>\n",
       "      <td></td>\n",
       "    </tr>\n",
       "    <tr>\n",
       "      <th>315721</th>\n",
       "      <td>4U-TR-1014</td>\n",
       "      <td>ТЯГА РУЛЕВАЯ HYUNDAI SONATA VIII (DN8) 2019-</td>\n",
       "      <td>212.1</td>\n",
       "      <td>4U</td>\n",
       "      <td></td>\n",
       "      <td></td>\n",
       "    </tr>\n",
       "  </tbody>\n",
       "</table>\n",
       "<p>872957 rows × 6 columns</p>\n",
       "</div>"
      ],
      "text/plain": [
       "                  ID                                              Title  \\\n",
       "0       4U-SH-033557                   Шланг вентиляции картера MB M112   \n",
       "1         AU-P-13633     Сайлентблок передн нижн рычага задн audi a8 09   \n",
       "2         AU-P-18022   Сайлентблок рычага VAG GOLF IV/BORA/A3 пер.подв.   \n",
       "3         AU-P-53987  Сайлентблок рычага VAG A3/TOURAN/PASSAT/GOLF V...   \n",
       "4         BW-A-53023                        Наконечник лев bmw e36 9099   \n",
       "...              ...                                                ...   \n",
       "315717  4U-TH-019658  ПАТРУБОК ПАТРУБОК ТУРБИНЫ (БЕЗ ПЛАСТ.ТРУБКИ) Д...   \n",
       "315718  4U-TH-033334          ПАТРУБОК ТУРБИНЫ MERCEDES VITO / SPRINTER   \n",
       "315719   4U-TRE-1019  НАКОНЕЧНИК РУЛЕВОЙ ТЯГИ TOYOTA RAV 4 V (_A5_, ...   \n",
       "315720   4U-TRE-1020  НАКОНЕЧНИК РУЛЕВОЙ ТЯГИ TOYOTA HIGHLANDER (GSU...   \n",
       "315721    4U-TR-1014       ТЯГА РУЛЕВАЯ HYUNDAI SONATA VIII (DN8) 2019-   \n",
       "\n",
       "        Price Brand ImageUrls                                    Description  \n",
       "0       121.8    4U                                MERCEDES BENZ A1120180482  \n",
       "1       253.5    4U            VAG 4H0407182; VAG 4H0407182B; VAG 4H0407182C  \n",
       "2        87.6    4U             VAG 180407181; VAG 1J0407181; VAG 1J0407181A  \n",
       "3       100.8    4U             VAG 1K0407182; VAG 1K0407182A; VAG 5Q0407182  \n",
       "4       227.4    4U                         BMW 32111139313; BMW 32111140489  \n",
       "...       ...   ...       ...                                            ...  \n",
       "315717  349.5    4U                                                           \n",
       "315718  199.5    4U                                                           \n",
       "315719  252.3    4U                                                           \n",
       "315720  275.1    4U                                                           \n",
       "315721  212.1    4U                                                           \n",
       "\n",
       "[872957 rows x 6 columns]"
      ]
     },
     "execution_count": 57,
     "metadata": {},
     "output_type": "execute_result"
    }
   ],
   "source": [
    "df_"
   ]
  },
  {
   "cell_type": "markdown",
   "id": "846edb4f-bafe-49c0-905a-d771f185b08a",
   "metadata": {
    "tags": []
   },
   "source": [
    "<div class=\"alert alert-block alert-info\"><font size=3>\n",
    "<b>сформмируб ДЕСКРИП"
   ]
  },
  {
   "cell_type": "code",
   "execution_count": 58,
   "id": "b65aa46b-d857-4610-a8e8-34a3cee73d43",
   "metadata": {
    "tags": []
   },
   "outputs": [
    {
     "data": {
      "text/plain": [
       "'Остались вопросы - пишите, с радостью поможем в выборе автозапчастей!'"
      ]
     },
     "execution_count": 58,
     "metadata": {},
     "output_type": "execute_result"
    }
   ],
   "source": [
    "df_['Description'] = df_['Title'] + ' в наличии в г. Краснодар, ул. Российская 263\\n' + \\\n",
    "'Оригинальный парт номер: ' + df_['Description'] + '\\n' + \\\n",
    "'Артикул товара: '          + df_['ID'] + '\\n' + \\\n",
    "'Производитель товара: '    + df_['Brand'] + '\\n' + '✅ Самовывоз или доставка по городу.\\n' + '✅ В наличии оригинальные запчасти.\\n'+ '✅ Выгодная стоимость запчастей.\\n'+ '✅ Бесплатный подбор запчастей по VIN номеру.\\n'+ '✅ Гарантия на все запчасти \\n'\n",
    "'⏰ Возможна доставка по РФ транспортной компанией по 100% предоплате (ПЭК, CДЭK, Делoвыe линии, Энергия и тп) от 2-х дней.\\n'\n",
    "'Остались вопросы - пишите, с радостью поможем в выборе автозапчастей!'"
   ]
  },
  {
   "cell_type": "code",
   "execution_count": null,
   "id": "52ca868a-7919-49ee-80d0-5c1a23b1846f",
   "metadata": {},
   "outputs": [],
   "source": []
  },
  {
   "cell_type": "code",
   "execution_count": 59,
   "id": "d56f3343-2a73-4c20-81fe-f2b9e705cfbd",
   "metadata": {
    "tags": []
   },
   "outputs": [
    {
     "data": {
      "text/html": [
       "<div>\n",
       "<style scoped>\n",
       "    .dataframe tbody tr th:only-of-type {\n",
       "        vertical-align: middle;\n",
       "    }\n",
       "\n",
       "    .dataframe tbody tr th {\n",
       "        vertical-align: top;\n",
       "    }\n",
       "\n",
       "    .dataframe thead th {\n",
       "        text-align: right;\n",
       "    }\n",
       "</style>\n",
       "<table border=\"1\" class=\"dataframe\">\n",
       "  <thead>\n",
       "    <tr style=\"text-align: right;\">\n",
       "      <th></th>\n",
       "      <th>ID</th>\n",
       "      <th>Title</th>\n",
       "      <th>Price</th>\n",
       "      <th>Brand</th>\n",
       "      <th>ImageUrls</th>\n",
       "      <th>Description</th>\n",
       "    </tr>\n",
       "  </thead>\n",
       "  <tbody>\n",
       "    <tr>\n",
       "      <th>17744</th>\n",
       "      <td>834-941</td>\n",
       "      <td>Труба приемная</td>\n",
       "      <td>2730.300</td>\n",
       "      <td>BOSAL</td>\n",
       "      <td></td>\n",
       "      <td>Труба приемная в наличии в г. Краснодар, ул. Р...</td>\n",
       "    </tr>\n",
       "    <tr>\n",
       "      <th>122686</th>\n",
       "      <td>AR00059</td>\n",
       "      <td>Опора двигателя</td>\n",
       "      <td>948.600</td>\n",
       "      <td>Miles</td>\n",
       "      <td></td>\n",
       "      <td>Опора двигателя в наличии в г. Краснодар, ул. ...</td>\n",
       "    </tr>\n",
       "    <tr>\n",
       "      <th>134795</th>\n",
       "      <td>PCV3031</td>\n",
       "      <td>ШРУС наружн [A36, B27, D56.5mm, ABS48] Volvo X...</td>\n",
       "      <td>1207.500</td>\n",
       "      <td>PATRON</td>\n",
       "      <td></td>\n",
       "      <td>ШРУС наружн [A36, B27, D56.5mm, ABS48] Volvo X...</td>\n",
       "    </tr>\n",
       "    <tr>\n",
       "      <th>15146</th>\n",
       "      <td>20063 STD</td>\n",
       "      <td>Кольца поршневые (комплект) STD MITSUBISHI PAJ...</td>\n",
       "      <td>1150.500</td>\n",
       "      <td>RIKEN</td>\n",
       "      <td>http://static.autotrade.su/nomenclature/wm/m/9...</td>\n",
       "      <td>Кольца поршневые (комплект) STD MITSUBISHI PAJ...</td>\n",
       "    </tr>\n",
       "    <tr>\n",
       "      <th>58886</th>\n",
       "      <td>65212000A8RV</td>\n",
       "      <td>Накладки тормозные STD 19262,19342</td>\n",
       "      <td>1960.623</td>\n",
       "      <td>FOMAR FRICTION</td>\n",
       "      <td></td>\n",
       "      <td>Накладки тормозные STD 19262,19342 в наличии в...</td>\n",
       "    </tr>\n",
       "    <tr>\n",
       "      <th>...</th>\n",
       "      <td>...</td>\n",
       "      <td>...</td>\n",
       "      <td>...</td>\n",
       "      <td>...</td>\n",
       "      <td>...</td>\n",
       "      <td>...</td>\n",
       "    </tr>\n",
       "    <tr>\n",
       "      <th>178490</th>\n",
       "      <td>TRK3735</td>\n",
       "      <td>Фильтр салона FORD FOCUS III 2013-</td>\n",
       "      <td>51.000</td>\n",
       "      <td>Tork</td>\n",
       "      <td></td>\n",
       "      <td>Фильтр салона FORD FOCUS III 2013- в наличии в...</td>\n",
       "    </tr>\n",
       "    <tr>\n",
       "      <th>40173</th>\n",
       "      <td>AC0208C</td>\n",
       "      <td>Фильтр салона NISSAN TEANA/PATHFINDER угольный</td>\n",
       "      <td>290.100</td>\n",
       "      <td>JS ASAKASHI</td>\n",
       "      <td></td>\n",
       "      <td>Фильтр салона NISSAN TEANA/PATHFINDER угольный...</td>\n",
       "    </tr>\n",
       "    <tr>\n",
       "      <th>5619</th>\n",
       "      <td>NSJ10</td>\n",
       "      <td>ШРУС NISSAN/INFINITI QASHQAI наружн. 35x56x29</td>\n",
       "      <td>796.200</td>\n",
       "      <td>ASVA</td>\n",
       "      <td></td>\n",
       "      <td>ШРУС NISSAN/INFINITI QASHQAI наружн. 35x56x29 ...</td>\n",
       "    </tr>\n",
       "    <tr>\n",
       "      <th>190912</th>\n",
       "      <td>151-2318</td>\n",
       "      <td>Тормозные колодки дисковые HONDA Accord VII</td>\n",
       "      <td>474.900</td>\n",
       "      <td>WEEN</td>\n",
       "      <td></td>\n",
       "      <td>Тормозные колодки дисковые HONDA Accord VII в ...</td>\n",
       "    </tr>\n",
       "    <tr>\n",
       "      <th>193604</th>\n",
       "      <td>7002-047</td>\n",
       "      <td>Поводок стеклоочистителя заднего Opel Astra G ...</td>\n",
       "      <td>201.900</td>\n",
       "      <td>METACO</td>\n",
       "      <td></td>\n",
       "      <td>Поводок стеклоочистителя заднего Opel Astra G ...</td>\n",
       "    </tr>\n",
       "  </tbody>\n",
       "</table>\n",
       "<p>150 rows × 6 columns</p>\n",
       "</div>"
      ],
      "text/plain": [
       "                  ID                                              Title  \\\n",
       "17744        834-941                                     Труба приемная   \n",
       "122686       AR00059                                    Опора двигателя   \n",
       "134795       PCV3031  ШРУС наружн [A36, B27, D56.5mm, ABS48] Volvo X...   \n",
       "15146      20063 STD  Кольца поршневые (комплект) STD MITSUBISHI PAJ...   \n",
       "58886   65212000A8RV                 Накладки тормозные STD 19262,19342   \n",
       "...              ...                                                ...   \n",
       "178490       TRK3735                 Фильтр салона FORD FOCUS III 2013-   \n",
       "40173        AC0208C     Фильтр салона NISSAN TEANA/PATHFINDER угольный   \n",
       "5619          NSJ10       ШРУС NISSAN/INFINITI QASHQAI наружн. 35x56x29   \n",
       "190912      151-2318        Тормозные колодки дисковые HONDA Accord VII   \n",
       "193604      7002-047  Поводок стеклоочистителя заднего Opel Astra G ...   \n",
       "\n",
       "           Price           Brand  \\\n",
       "17744   2730.300           BOSAL   \n",
       "122686   948.600           Miles   \n",
       "134795  1207.500          PATRON   \n",
       "15146   1150.500           RIKEN   \n",
       "58886   1960.623  FOMAR FRICTION   \n",
       "...          ...             ...   \n",
       "178490    51.000            Tork   \n",
       "40173    290.100     JS ASAKASHI   \n",
       "5619     796.200            ASVA   \n",
       "190912   474.900            WEEN   \n",
       "193604   201.900          METACO   \n",
       "\n",
       "                                                ImageUrls  \\\n",
       "17744                                                       \n",
       "122686                                                      \n",
       "134795                                                      \n",
       "15146   http://static.autotrade.su/nomenclature/wm/m/9...   \n",
       "58886                                                       \n",
       "...                                                   ...   \n",
       "178490                                                      \n",
       "40173                                                       \n",
       "5619                                                        \n",
       "190912                                                      \n",
       "193604                                                      \n",
       "\n",
       "                                              Description  \n",
       "17744   Труба приемная в наличии в г. Краснодар, ул. Р...  \n",
       "122686  Опора двигателя в наличии в г. Краснодар, ул. ...  \n",
       "134795  ШРУС наружн [A36, B27, D56.5mm, ABS48] Volvo X...  \n",
       "15146   Кольца поршневые (комплект) STD MITSUBISHI PAJ...  \n",
       "58886   Накладки тормозные STD 19262,19342 в наличии в...  \n",
       "...                                                   ...  \n",
       "178490  Фильтр салона FORD FOCUS III 2013- в наличии в...  \n",
       "40173   Фильтр салона NISSAN TEANA/PATHFINDER угольный...  \n",
       "5619    ШРУС NISSAN/INFINITI QASHQAI наружн. 35x56x29 ...  \n",
       "190912  Тормозные колодки дисковые HONDA Accord VII в ...  \n",
       "193604  Поводок стеклоочистителя заднего Opel Astra G ...  \n",
       "\n",
       "[150 rows x 6 columns]"
      ]
     },
     "execution_count": 59,
     "metadata": {},
     "output_type": "execute_result"
    }
   ],
   "source": [
    "df_.sample(150)"
   ]
  },
  {
   "cell_type": "code",
   "execution_count": null,
   "id": "658658bb-afd2-4734-b762-25bafc4d7c1d",
   "metadata": {},
   "outputs": [],
   "source": []
  },
  {
   "cell_type": "code",
   "execution_count": 60,
   "id": "daf810df-e58f-4935-bb96-abbd9c17ac26",
   "metadata": {
    "tags": []
   },
   "outputs": [],
   "source": [
    "df_ = df_.drop_duplicates('ID')"
   ]
  },
  {
   "cell_type": "code",
   "execution_count": 61,
   "id": "d64abd8f-66e8-4ed6-b942-17c0ca7e3040",
   "metadata": {
    "tags": []
   },
   "outputs": [
    {
     "data": {
      "text/plain": [
       "(611486, 6)"
      ]
     },
     "execution_count": 61,
     "metadata": {},
     "output_type": "execute_result"
    }
   ],
   "source": [
    "df_.shape"
   ]
  },
  {
   "cell_type": "code",
   "execution_count": 365,
   "id": "aad479e0-4511-443d-9d01-fe79ef437bcd",
   "metadata": {
    "tags": []
   },
   "outputs": [],
   "source": [
    "df_.sample(150).to_excel('сбор150.xlsx', index=False)"
   ]
  },
  {
   "cell_type": "code",
   "execution_count": 62,
   "id": "f88bbd09-a9f4-4c03-b5ac-f4e6b5251fe6",
   "metadata": {
    "tags": []
   },
   "outputs": [],
   "source": [
    "df_.to_excel('сбор.xlsx', index=False)"
   ]
  },
  {
   "cell_type": "code",
   "execution_count": 63,
   "id": "e0041ac2-a7c7-44ce-b684-89139ab303c6",
   "metadata": {
    "tags": []
   },
   "outputs": [],
   "source": [
    "df_.sample(1500).to_excel('сбор1500.xlsx', index=False)"
   ]
  },
  {
   "cell_type": "code",
   "execution_count": 374,
   "id": "88970de3-e2e2-4cc2-b25d-054b52a76554",
   "metadata": {
    "tags": []
   },
   "outputs": [],
   "source": [
    "header_format = workbook.add_format({'bold': True, 'text_wrap': False, 'valign': 'top'})\n",
    "cell_format = workbook.add_format()\n",
    "cell_format.set_text_wrap()\n",
    "\n",
    "with pd.ExcelWriter('wwwww.xlsx',\n",
    "                     engine=\"xlsxwriter\",\n",
    "                    ) as writer:\n",
    "    df_.sample(150).to_excel(writer, index = False)\n",
    "    # for column in df_.sample(150):\n",
    "    #     writer.sheets['Sheet1'].autofit()\n",
    "\n",
    "        \n",
    "    writer.sheets['Sheet1'].set_column('A:A', 20)   # Column  A   width set to 20.\n",
    "    writer.sheets['Sheet1'].set_column('B:B', 90)   # Columns B-D width set to 30.\n",
    "    writer.sheets['Sheet1'].set_column('C:C', 20)  # Column  E   width set to 20.\n",
    "    writer.sheets['Sheet1'].set_column('D:D', 30)  # Columns F-H width set to 30.    \n",
    "    writer.sheets['Sheet1'].set_column('E:E', 30)  # Columns F-H width set to 30.    \n",
    "    writer.sheets['Sheet1'].set_column('F:F', 30, cell_format)  # Columns F-H width set to 30.    \n",
    "    writer.sheets['Sheet1'].set_row(2, 20)\n",
    "    \n",
    "    \n",
    "  \n",
    "    "
   ]
  },
  {
   "cell_type": "code",
   "execution_count": 397,
   "id": "57b38f9b-f8f3-4eb6-b955-bd1834df50a0",
   "metadata": {
    "tags": []
   },
   "outputs": [
    {
     "ename": "TypeError",
     "evalue": "'<' not supported between instances of 'Format' and 'int'",
     "output_type": "error",
     "traceback": [
      "\u001b[1;31m---------------------------------------------------------------------------\u001b[0m",
      "\u001b[1;31mTypeError\u001b[0m                                 Traceback (most recent call last)",
      "Cell \u001b[1;32mIn[397], line 1\u001b[0m\n\u001b[1;32m----> 1\u001b[0m writer\u001b[38;5;241m.\u001b[39msheets[\u001b[38;5;124m'\u001b[39m\u001b[38;5;124mSheet1\u001b[39m\u001b[38;5;124m'\u001b[39m]\u001b[38;5;241m.\u001b[39mset_row(cell_format)\n",
      "File \u001b[1;32m~\\anaconda3\\Lib\\site-packages\\xlsxwriter\\worksheet.py:2182\u001b[0m, in \u001b[0;36mWorksheet.set_row\u001b[1;34m(self, row, height, cell_format, options)\u001b[0m\n\u001b[0;32m   2179\u001b[0m     min_col \u001b[38;5;241m=\u001b[39m \u001b[38;5;241m0\u001b[39m\n\u001b[0;32m   2181\u001b[0m \u001b[38;5;66;03m# Check that row is valid.\u001b[39;00m\n\u001b[1;32m-> 2182\u001b[0m \u001b[38;5;28;01mif\u001b[39;00m \u001b[38;5;28mself\u001b[39m\u001b[38;5;241m.\u001b[39m_check_dimensions(row, min_col):\n\u001b[0;32m   2183\u001b[0m     \u001b[38;5;28;01mreturn\u001b[39;00m \u001b[38;5;241m-\u001b[39m\u001b[38;5;241m1\u001b[39m\n\u001b[0;32m   2185\u001b[0m \u001b[38;5;28;01mif\u001b[39;00m height \u001b[38;5;129;01mis\u001b[39;00m \u001b[38;5;28;01mNone\u001b[39;00m:\n",
      "File \u001b[1;32m~\\anaconda3\\Lib\\site-packages\\xlsxwriter\\worksheet.py:4793\u001b[0m, in \u001b[0;36mWorksheet._check_dimensions\u001b[1;34m(self, row, col, ignore_row, ignore_col)\u001b[0m\n\u001b[0;32m   4785\u001b[0m \u001b[38;5;28;01mdef\u001b[39;00m \u001b[38;5;21m_check_dimensions\u001b[39m(\u001b[38;5;28mself\u001b[39m, row, col, ignore_row\u001b[38;5;241m=\u001b[39m\u001b[38;5;28;01mFalse\u001b[39;00m, ignore_col\u001b[38;5;241m=\u001b[39m\u001b[38;5;28;01mFalse\u001b[39;00m):\n\u001b[0;32m   4786\u001b[0m     \u001b[38;5;66;03m# Check that row and col are valid and store the max and min\u001b[39;00m\n\u001b[0;32m   4787\u001b[0m     \u001b[38;5;66;03m# values for use in other methods/elements. The ignore_row /\u001b[39;00m\n\u001b[1;32m   (...)\u001b[0m\n\u001b[0;32m   4791\u001b[0m \n\u001b[0;32m   4792\u001b[0m     \u001b[38;5;66;03m# Check that the row/col are within the worksheet bounds.\u001b[39;00m\n\u001b[1;32m-> 4793\u001b[0m     \u001b[38;5;28;01mif\u001b[39;00m row \u001b[38;5;241m<\u001b[39m \u001b[38;5;241m0\u001b[39m \u001b[38;5;129;01mor\u001b[39;00m col \u001b[38;5;241m<\u001b[39m \u001b[38;5;241m0\u001b[39m:\n\u001b[0;32m   4794\u001b[0m         \u001b[38;5;28;01mreturn\u001b[39;00m \u001b[38;5;241m-\u001b[39m\u001b[38;5;241m1\u001b[39m\n\u001b[0;32m   4795\u001b[0m     \u001b[38;5;28;01mif\u001b[39;00m row \u001b[38;5;241m>\u001b[39m\u001b[38;5;241m=\u001b[39m \u001b[38;5;28mself\u001b[39m\u001b[38;5;241m.\u001b[39mxls_rowmax \u001b[38;5;129;01mor\u001b[39;00m col \u001b[38;5;241m>\u001b[39m\u001b[38;5;241m=\u001b[39m \u001b[38;5;28mself\u001b[39m\u001b[38;5;241m.\u001b[39mxls_colmax:\n",
      "\u001b[1;31mTypeError\u001b[0m: '<' not supported between instances of 'Format' and 'int'"
     ]
    }
   ],
   "source": [
    "writer.sheets['Sheet1'].set_row(2, 20)"
   ]
  },
  {
   "cell_type": "code",
   "execution_count": null,
   "id": "df68d13d-1bf4-48f8-be96-319c9c9c5305",
   "metadata": {},
   "outputs": [],
   "source": []
  }
 ],
 "metadata": {
  "kernelspec": {
   "display_name": "Python 3 (ipykernel)",
   "language": "python",
   "name": "python3"
  },
  "language_info": {
   "codemirror_mode": {
    "name": "ipython",
    "version": 3
   },
   "file_extension": ".py",
   "mimetype": "text/x-python",
   "name": "python",
   "nbconvert_exporter": "python",
   "pygments_lexer": "ipython3",
   "version": "3.11.5"
  }
 },
 "nbformat": 4,
 "nbformat_minor": 5
}
